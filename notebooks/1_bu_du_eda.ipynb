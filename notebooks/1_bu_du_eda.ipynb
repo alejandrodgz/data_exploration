{
 "cells": [
  {
   "cell_type": "markdown",
   "metadata": {},
   "source": [
    "# Sistema de Recomendación de Cultivos\n",
    "## Entrega 1: EDA completo\n",
    "\n",
    "**Machine Learning**\n",
    "\n",
    "**Profesor:** Marco Terán  \n",
    "**Fecha:** 2025/09/30\n",
    "\n",
    "**Integrantes**\n",
    "\n",
    "- Daniel Alejandro Garcia Zuluaica\n",
    "- Edward Alejandro Rayo Cortés\n",
    "- Elizabeth Toro Chalarca\n",
    "\n",
    "___"
   ]
  },
  {
   "cell_type": "markdown",
   "metadata": {},
   "source": [
    "## 📋 Tabla de Contenidos\n",
    "\n",
    "1. **Configuración del entorno**\n",
    "2. **Comprensión del Negocio**\n",
    "3. **Obtención y Comprensión de Datos**\n",
    "4. **Análisis Exploratorio (EDA)**\n",
    "\n",
    "---"
   ]
  },
  {
   "cell_type": "code",
   "execution_count": null,
   "metadata": {},
   "outputs": [],
   "source": [
    "print(\"¡Bienvenidos al primer notebook!\")"
   ]
  },
  {
   "cell_type": "markdown",
   "metadata": {},
   "source": [
    "---\n",
    "\n",
    "## 1. Configuración del Entorno\n",
    "\n",
    "### ¿Por qué importan las versiones?\n",
    "\n",
    "En ML, la reproducibilidad es crucial. Imagina que tu modelo funciona perfectamente en tu computadora pero falla en producción. La causa más común: diferentes versiones de librerías.\n",
    "\n",
    "**Regla de oro**: Siempre documenta y verifica las versiones de tus dependencias.\n",
    "\n",
    "### Librerías que usaremos\n",
    "\n",
    "- **NumPy**: El motor matemático de Python. Maneja arrays y operaciones numéricas eficientemente\n",
    "- **Pandas**: Como Excel con superpoderes. Organiza datos en DataFrames (tablas)\n",
    "- **Matplotlib/Seaborn**: Nuestros artistas. Crean visualizaciones profesionales\n",
    "- **Scikit-learn**: La navaja suiza del ML. Contiene algoritmos, métricas y utilidades\n",
    "\n",
    "### Configuración visual\n",
    "\n",
    "Los defaults de matplotlib no son los más bonitos. Vamos a configurar:\n",
    "- Estilo consistente para todos los gráficos\n",
    "- Tamaños legibles\n",
    "- Colores agradables\n",
    "- Formato de números apropiado"
   ]
  },
  {
   "cell_type": "code",
   "execution_count": null,
   "metadata": {},
   "outputs": [],
   "source": [
    "# Configuración inicial del entorno\n",
    "import sys\n",
    "import warnings\n",
    "warnings.filterwarnings('ignore')\n",
    "\n",
    "# Verificar versión de Python\n",
    "assert sys.version_info >= (3, 7), \"Este notebook requiere Python 3.7 o superior\"\n",
    "\n",
    "print(f\"✅ Python {sys.version_info.major}.{sys.version_info.minor} instalado correctamente\")"
   ]
  },
  {
   "cell_type": "markdown",
   "metadata": {},
   "source": [
    "## Importando Librerias\n",
    "\n",
    "Descargarems las librerias necesarias para utilizar el modelo, esto solo se ejecuta una vez"
   ]
  },
  {
   "cell_type": "code",
   "execution_count": null,
   "metadata": {},
   "outputs": [],
   "source": [
    "pip install -r ../requirements.txt"
   ]
  },
  {
   "cell_type": "markdown",
   "metadata": {},
   "source": [
    "### Validación de librerias\n",
    "\n",
    "Se verifica que las librerias que vamos a usar estén completamente descargadas\n",
    "\n",
    "\n",
    "- **NumPy**\n",
    "- **Pandas**\n",
    "- **Matplotlib/Seaborn**\n",
    "- **Scikit-learn**"
   ]
  },
  {
   "cell_type": "code",
   "execution_count": null,
   "metadata": {},
   "outputs": [],
   "source": [
    "# Importar librerías necesarias\n",
    "import numpy as np\n",
    "import pandas as pd\n",
    "import matplotlib.pyplot as plt\n",
    "import seaborn as sns\n",
    "from pathlib import Path\n",
    "from scipy import stats\n",
    "\n",
    "# Configuración de visualización\n",
    "plt.style.use('seaborn-v0_8-darkgrid')\n",
    "plt.rcParams['figure.figsize'] = (12, 6)\n",
    "plt.rcParams['font.size'] = 12\n",
    "sns.set_palette(\"husl\")\n",
    "\n",
    "# Configuración de pandas\n",
    "pd.set_option('display.max_columns', None)\n",
    "pd.set_option('display.max_rows', 100)\n",
    "pd.set_option('display.float_format', '{:.2f}'.format)\n",
    "\n",
    "print(\"✅ Librerías importadas correctamente\")"
   ]
  },
  {
   "cell_type": "markdown",
   "metadata": {},
   "source": [
    "#### Verificar versiones de librerías críticas\n",
    "Se valida que tengamos la versión mínima de las librerias"
   ]
  },
  {
   "cell_type": "code",
   "execution_count": null,
   "metadata": {},
   "outputs": [],
   "source": [
    "\n",
    "from packaging import version\n",
    "import sklearn\n",
    "\n",
    "assert version.parse(sklearn.__version__) >= version.parse(\"1.0.1\"), \"Requiere scikit-learn >= 1.0.1\"\n",
    "print(f\"✅ scikit-learn {sklearn.__version__} instalado\")"
   ]
  },
  {
   "cell_type": "markdown",
   "metadata": {},
   "source": [
    "## 💼 2. Fase 1: Comprensión del Negocio <a name=\"business_understanding\"></a>\n",
    "\n",
    "### El problema de seleccionar un cultivo invalido\n",
    "\n",
    "**Contexto**: Imagina que eres un agricultor y quieres determinar cuál sería el mejor cultivo para sembrar sin verte afectado por factores de perdidas económicas, mal uso de los recursos y/o degradaciones ambientales.\n",
    "\n",
    "La agricultura es fundamental para la seguridad alimentaria y el desarrollo económico. Los agricultores a menudo enfrentan desafíos al seleccionar el cultivo adecuado \n",
    "para su tierra según las condiciones del suelo y el ambiente. Una mala selección de cultivos puede llevar a:\n",
    " \n",
    "**Problema actual**:\n",
    "- Rendimientos reducidos: Los cultivos inadecuados pueden producir 30–50% menos que cultivos óptimos para las mismas condiciones [1].\n",
    "- Pérdidas económicas: Estimadas en $1,000–$5,000 USD por hectárea por temporada en cultivos no optimizados [2].\n",
    "- Uso ineficiente de recursos: Hasta 40% de desperdicio en agua y fertilizantes cuando el cultivo no coincide con las condiciones del suelo [3].\n",
    "- Degradación ambiental: Agotamiento de nutrientes del suelo y erosión por prácticas agrícolas inadecuadas [4].\n",
    "\n",
    "**Solución propuesta**: Determinar el conjunto de características y el algoritmo de Machine Learning que ofrezca el mejor desempeño en la predicción del cultivo más adecuado, considerando variables que representan los nutrientes del suelo (N, P, K) y condiciones agroclimáticas (pH, temperatura, humedad y precipitación).\n",
    "\n",
    "### Definiendo el éxito\n",
    "\n",
    "**Métrica de negocio**: \n",
    "- **Incremento en rendimiento**: Aumento del 15-20% en productividad de cultivos\n",
    "\t- Justificación: Estudios recientes han demostrado que los sistemas de recomendación de cultivos basados en Machine Learning pueden mejorar el rendimiento entre un 15% y 30% respecto a métodos tradicionales [2][3][5].\n",
    "\t- Relevancia: Este aumento representa una mejora tangible en la productividad agrícola, lo que incentiva la adopción del sistema por parte de los agricultores.\n",
    "\n",
    "- **Reducción de costos**: Disminución del 25% en pérdidas por selección incorrecta\n",
    "\t- Justificación: La selección incorrecta de cultivos puede generar pérdidas de hasta $5,000 USD por hectárea [2]. Al recomendar cultivos más adecuados, se reduce el uso innecesario de fertilizantes, agua y otros insumos, lo que se traduce en una disminución directa de los costos operativos.\n",
    "\t- Relevancia: Esta métrica es crítica para demostrar el valor económico del sistema, especialmente en regiones con recursos limitados.\n",
    "\n",
    "- **ROI**: Retorno de inversión positivo en 2 temporadas de cultivo\n",
    "\t- Justificación: Si el sistema logra aumentar el rendimiento y reducir los costos en una sola temporada, el agricultor puede recuperar la inversión en tecnología, capacitación o infraestructura en menos de dos ciclos agrícolas.\n",
    "\t- Relevancia: Un ROI rápido es clave para la sostenibilidad del proyecto y para convencer a financiadores o instituciones agrícolas.\n",
    "\n",
    "- **Adopción**: Al menos 80% de recomendaciones implementadas por agricultores piloto\n",
    "\t- Justificación: La tasa de adopción refleja la aceptación del sistema en condiciones reales. Estudios previos muestran que los agricultores tienden a adoptar tecnologías que demuestran beneficios claros en campo [5][6].\n",
    "\t- Relevancia: Esta métrica valida la usabilidad y confianza en el sistema, y es esencial para escalar el proyecto a nivel regional o nacional.\n",
    "\n",
    "**Métrica técnica**:\n",
    "- **Accuracy >= 95%**: \n",
    "\t- Justificación: En un problema de clasificación multiclase con 22 clases, un modelo aleatorio tendría una precisión de apenas ~4.5%. Alcanzar una accuracy ≥95% indica que el modelo ha aprendido patrones significativos y útiles para la predicción [2][3].\n",
    "\t- Evidencia: Modelos recientes como redes neuronales profundas y transformers (GPT-2) han alcanzado precisiones superiores al 97% en tareas similares de recomendación de cultivos [2][3].\n",
    "\t- Relevancia: Una alta accuracy genera confianza en los agricultores y valida el uso del sistema en campo [5].\n",
    "\n",
    "- **Precision y Recall ≥ 90% por clase**\n",
    "\t- Justificación:\n",
    "\t\t- Precision alta: Evita falsos positivos, es decir, recomendar cultivos inadecuados que pueden generar pérdidas económicas significativas (~$3,000 USD/ha) [2].\n",
    "\t\t- Recall alto: Evita falsos negativos, asegurando que no se omitan cultivos viables que podrían mejorar el rendimiento.\n",
    "\t- Evidencia: Estudios como el de Reddy et al. (2024) y Bhola & Kumar (2024) muestran que los modelos bien calibrados pueden mantener estos valores por clase en problemas agrícolas complejos [2][6].\n",
    "\t- Relevancia: Estas métricas son críticas para decisiones agrícolas, donde cada recomendación tiene un impacto económico directo.\n",
    "\n",
    "- **F1-Score ≥ 90%**\n",
    "\tEl F1-Score combina precisión y exhaustividad, lo que permite evaluar el rendimiento del modelo de forma equilibrada, especialmente en clases con menor representación.\n",
    "\tEn sistemas de recomendación agrícola, el F1-Score ≥90% ha sido usado como estándar para validar modelos antes de su implementación en campo [4][6].\n",
    "\n",
    "**Nota sobre el tipo de problema**:\n",
    "Este es un problema de **clasificación multiclase**, NO de regresión. Por tanto, MAE (Error Absoluto Medio) no es la métrica apropiada. MAE se usa para predecir valores continuos (ej: precio, cantidad), pero aquí predecimos categorías (tipos de cultivo).\n",
    "\n",
    "### Preguntas críticas antes de empezar\n",
    "\n",
    "**¿Realmente necesitamos ML?** Sí, por las siguientes razones:\n",
    "- Complejidad del problema: Con 7 variables continuas y 22 clases, existen más de 10⁶ combinaciones posibles. Es impracticable crear reglas manuales [2].\n",
    "- Interacciones no lineales: Las relaciones entre N-P-K, clima y pH son complejas y no evidentes. ML puede capturar estos patrones de forma más precisa que los métodos tradicionales [5].\n",
    "- Escalabilidad: Un sistema ML puede analizar miles de casos en segundos, mientras que un agrónomo tardaría horas en evaluar cada uno manualmente.\n",
    "- Evidencia científica: Estudios recientes muestran que los sistemas ML para recomendación de cultivos superan en 15–30% a métodos basados en reglas o expertos humanos [2][3][5][6].\n",
    "\n",
    "Alternativas consideradas y descartadas:\n",
    "\n",
    "Tablas de decisión manual: No escalables, no capturan interacciones complejas.\n",
    "Consulta a expertos agrícolas: Costoso ($100–200 USD/consulta), subjetivo, no disponible 24/7.\n",
    "Sistemas basados en reglas simples: Accuracy <70% en evaluaciones previas [5].\n",
    "\n",
    "**¿Qué pasa si el modelo falla?** Análisis de riesgos y mitigación:\n",
    "\n",
    "**Escenario 1**: Falso Positivo (recomienda cultivo inadecuado)\n",
    "\t- Impacto: Pérdida de inversión de temporada (~$3,000 USD/ha).\n",
    "\tProbabilidad con modelo ≥95% accuracy: ~2–3% de casos.\n",
    "\t- Mitigación:Mostrar solo recomendaciones con >85% de probabilidad.\n",
    "\tValidación humana por agrónomo en casos de baja confianza.\n",
    "\tImplementación piloto en ≤20% del área antes de escalar.\n",
    "\n",
    "**Escenario 2**: Falso Negativo (no recomienda cultivo adecuado)\n",
    "\t- Impacto: Costo de oportunidad (rendimiento subóptimo). Probabilidad: ~5% de casos.\n",
    "\t- Mitigación: Mostrar top-3 recomendaciones con probabilidades. Permitir retroalimentación del agricultor para mejorar el sistema.\n",
    "\n",
    "**Escenario 3**: Falla total del sistema\n",
    "\t- Impacto: Reversión a métodos tradicionales.\n",
    "\tProbabilidad: Muy baja con validación robusta.\n",
    "\t- Mitigación: Backup de sistema tradicional disponible.\n",
    "\tValidación en conjunto de test independiente.\n",
    "\tMonitoreo continuo de métricas en producción.\n",
    "\n",
    "### Plan de contingencia\n",
    "- Si accuracy cae <90% en producción → Alerta automática.\n",
    "- Si accuracy cae <85% → Sistema se desactiva automáticamente.\n",
    "- Revisión trimestral con datos reales de campo."
   ]
  },
  {
   "cell_type": "markdown",
   "metadata": {},
   "source": [
    "---\n",
    "\n",
    "## 3. Fase 2: Obtención y Comprensión de Datos <a name=\"data_understanding\"></a>\n",
    "\n",
    "### El dataset para Recomendación de Cultivos\n",
    "\n",
    "**Origen**: Conjunto de Datos para Recomendación de Cultivos  \n",
    "**Tamaño**: 2,200 muestras  \n",
    "**Granularidad**: Cada fila representa una muestra con el cultivo recomendado en función de la composición del suelo y las condiciones climáticas.\n",
    "\n",
    "### ¿Por qué este dataset?\n",
    "\n",
    "- **Clásico en ML**: Bien estudiado, podemos comparar resultados\n",
    "- **Tamaño apropiado**: Ni muy pequeño ni muy grande para aprender\n",
    "- **Múltiples tipos de datos**: Numéricos y categóricos\n",
    "\n",
    "### Estrategia de descarga robusta\n",
    "\n",
    "Implementaremos:\n",
    "1. **Caché local**: Si ya descargamos, no repetir\n",
    "2. **Manejo de errores**: Si falla la descarga, informar claramente\n",
    "3. **Estructura organizada**: Carpeta datasets/ para todos los datos"
   ]
  },
  {
   "cell_type": "code",
   "execution_count": null,
   "metadata": {},
   "outputs": [],
   "source": [
    "#importar funciones utilitarias implementads en el directorio src\n",
    "import sys\n",
    "sys.path.append('../src')"
   ]
  },
  {
   "cell_type": "markdown",
   "metadata": {},
   "source": [
    "### Descarga y Carga de Datos"
   ]
  },
  {
   "cell_type": "code",
   "execution_count": null,
   "metadata": {},
   "outputs": [],
   "source": [
    "# Función para descargar datos\n",
    "import importlib\n",
    "import data_loader\n",
    "importlib.reload(data_loader)\n",
    "\n",
    "from data_loader import load_crop_data\n",
    "\n",
    "crop_data = load_crop_data()\n",
    "print(crop_data.head())"
   ]
  },
  {
   "cell_type": "markdown",
   "metadata": {},
   "source": [
    "### 🔍 Análisis Exploratorio de Datos (EDA)\n",
    "\n",
    "#### ¿Qué es EDA y por qué es crucial?\n",
    "\n",
    "**EDA es como ser un detective**: Buscas pistas, anomalías y patrones en los datos.\n",
    "\n",
    "**John Tukey** (inventor del EDA) dijo: \"Es mejor una respuesta aproximada a la pregunta correcta que una respuesta exacta a la pregunta incorrecta.\"\n",
    "\n",
    "#### Primera impresión: Vista rápida\n",
    "\n",
    "**¿Qué buscamos?**\n",
    "- Tipos de datos (numéricos, texto, fechas)\n",
    "- Dimensiones (filas × columnas)\n",
    "- Valores faltantes obvios\n",
    "- Rangos sospechosos\n",
    "\n",
    "**Herramientas**: head(), info(), describe()"
   ]
  },
  {
   "cell_type": "markdown",
   "metadata": {},
   "source": [
    "### Primera Inspección de Datos"
   ]
  },
  {
   "cell_type": "code",
   "execution_count": null,
   "metadata": {},
   "outputs": [],
   "source": [
    "# Vista general del dataset\n",
    "print(\"=\" * 80)\n",
    "print(\"INFORMACIÓN GENERAL DEL DATASET\".center(80))\n",
    "print(\"=\" * 80)\n",
    "\n",
    "# Mostrar primeras filas con formato mejorado\n",
    "display(crop_data.head().style.background_gradient(cmap='coolwarm', subset=['temperature', 'humidity', 'ph', 'rainfall']))\n",
    "\n",
    "# Información detallada\n",
    "print(\"\\n\" + \"=\" * 80)\n",
    "print(\"ESTRUCTURA DE DATOS\".center(80))\n",
    "print(\"=\" * 80)\n",
    "crop_data.info()\n",
    "\n",
    "# Estadísticas descriptivas\n",
    "print(\"\\n\" + \"=\" * 80)\n",
    "print(\"ESTADÍSTICAS DESCRIPTIVAS\".center(80))\n",
    "print(\"=\" * 80)\n",
    "display(crop_data.describe().round(2).T)"
   ]
  },
  {
   "cell_type": "markdown",
   "metadata": {},
   "source": [
    "### Descripción de Variables"
   ]
  },
  {
   "cell_type": "markdown",
   "metadata": {},
   "source": [
    "### Entendiendo cada variable\n"
   ]
  },
  {
   "cell_type": "code",
   "execution_count": null,
   "metadata": {},
   "outputs": [],
   "source": [
    "# Diccionario de metadatos\n",
    "metadata = {\n",
    "    'Variable': ['N','P','k','temperature','humidity','ph','rainfall','label'],\n",
    "    'Tipo': ['Numérica', 'Numérica', 'Numérica', 'Numérica', 'Numérica', \n",
    "             'Numérica', 'Numérica', 'Categórica (target)'],\n",
    "    'Descripción': [\n",
    "        'Cantidad de nitrogeno en el suelo (en mg/kg)',\n",
    "        'Cantidad de fosforo en el suelo (en mg/kg)',\n",
    "        'Cantidad de potacio en el suelo (en mg/kg)',\n",
    "        'Temperatura promedio (en °C)',\n",
    "        'Porcentaje de humedad relativa (%)',\n",
    "        'Valor del pH del suelo (0-14 escala cerca al cero más ácido)',\n",
    "        'Precipitación (en mm)',\n",
    "        'Tipo de cultivo recomendado para las condiciones dadas (ej: arroz, maíz, etc.)',\n",
    "    ],\n",
    "    'Valores Faltantes': [\n",
    "        crop_data['N'].isnull().sum(),\n",
    "        crop_data['P'].isnull().sum(),\n",
    "        crop_data['K'].isnull().sum(),\n",
    "        crop_data['temperature'].isnull().sum(),\n",
    "        crop_data['humidity'].isnull().sum(),\n",
    "        crop_data['ph'].isnull().sum(),\n",
    "        crop_data['rainfall'].isnull().sum(),\n",
    "        crop_data['label'].isnull().sum(),\n",
    "    ]\n",
    "}\n",
    "\n",
    "df_metadata = pd.DataFrame(metadata)\n",
    "display(df_metadata.style.map(\n",
    "    lambda x: 'background-color: #ffcccc' if x > 0 else '', \n",
    "    subset=['Valores Faltantes']\n",
    "))"
   ]
  },
  {
   "cell_type": "markdown",
   "metadata": {},
   "source": [
    "---\n",
    "### Detectando problemas en los datos\n",
    "\n",
    "#### Análisis de Valores Faltantes (Missing values)\n"
   ]
  },
  {
   "cell_type": "code",
   "execution_count": null,
   "metadata": {},
   "outputs": [],
   "source": [
    "# Análisis detallado de valores faltantes\n",
    "\n",
    "from analyze_missing_values import analyze_missing_values\n",
    "\n",
    "missing_analysis = analyze_missing_values(crop_data)\n",
    "if missing_analysis is not None:\n",
    "    print(missing_analysis)"
   ]
  },
  {
   "cell_type": "markdown",
   "metadata": {},
   "source": [
    "### ✅ Análisis de Valores Faltantes\n",
    "\n",
    "**Resumen:**  \n",
    "- No se detectaron valores faltantes en ninguna columna.  \n",
    "- Completitud global: **100%** de las celdas contienen datos válidos.\n",
    "\n",
    "**Metodología aplicada**\n",
    "1. Conteo absoluto por columna: `df.isnull().sum()`  \n",
    "2. Porcentaje relativo: `(df.isnull().mean() * 100).round(2)`  \n",
    "3. (Condicional) Visualizaciones: barra de % de faltantes y mapa de patrones (no generadas porque no hubo nulos).  \n",
    "4. Criterios de alerta habituales:  \n",
    "   - > 5%: monitoreo / imputación ligera  \n",
    "   - > 5–20%: evaluar impacto y estrategia de imputación  \n",
    "   - > 20%: considerar eliminación o técnicas avanzadas (MICE / modelos)  \n",
    "\n",
    "**Resultados obtenidos**\n",
    "| Métrica | Valor |\n",
    "|---------|-------|\n",
    "| Columnas con faltantes (>0) | 0 |\n",
    "| Total de celdas nulas | 0 |\n",
    "| Porcentaje global de faltantes | 0.00% |\n",
    "| Columnas afectadas | Ninguna |\n",
    "| Patrón estructurado de nulos | No aplica |\n",
    "\n",
    "**Implicaciones prácticas**\n",
    "- No se requiere imputación (media / mediana / moda / KNN / regresión).  \n",
    "- No es necesario eliminar filas o columnas por incompletitud.  \n",
    "- Menor riesgo de introducir sesgo por decisiones de relleno artificial.  \n",
    "- Pipeline de preprocesamiento más simple (menos pasos y menos hiperparámetros).  \n",
    "- Se acelera la experimentación en etapas posteriores (feature engineering y modelado).  \n",
    "\n",
    "**Próximos pasos recomendados**\n",
    "- Validar consistencia semántica (rango y plausibilidad de valores).  \n",
    "- Monitorear valores atípicos y distribución (ya que no hay nulos, la calidad dependerá de outliers y escalas).  \n",
    "- Asegurar que en futuras integraciones de datos (nuevas fuentes) se mantenga esta calidad mediante validaciones automáticas.\n",
    "\n",
    "> Estado: Excelente calidad estructural respecto a completitud; la atención se puede enfocar ahora en variabilidad, outliers y relaciones entre variables.\n"
   ]
  },
  {
   "cell_type": "markdown",
   "metadata": {},
   "source": [
    "### Análisis Univariado\n",
    "\n",
    "#### 1. Variables Numéricas (7 características)\n",
    "\n",
    "En este apartados analizaremos a cada una de las características (N, P, K, temperature, humidity, ph, rainfall)\n",
    "\n",
    "- Estadísticas descriptivas completas\n",
    "- Implicación de dispersión a través del coeficiente de variación\n",
    "- Implicación de forma a través de la distribución de la gráfica (Asimetría y Curtosis)\n",
    "- Confiabilidad de los datos (Validar valores Atípicos)\n",
    "\n",
    "Finalmente tendremos un resumen ejecutivo que contenga toda esta información"
   ]
  },
  {
   "cell_type": "code",
   "execution_count": null,
   "metadata": {},
   "outputs": [],
   "source": [
    "# Función para análisis univariado robusto\n",
    "\n",
    "# Configuración para mostrar gráficos en Jupyter Notebook\n",
    "%matplotlib inline\n",
    "\n",
    "import importlib\n",
    "import univariate_analysis\n",
    "importlib.reload(univariate_analysis)\n",
    "\n",
    "from univariate_analysis import analyze_numeric_values\n",
    "\n",
    "# Variables numéricas\n",
    "num_vars = ['N', 'P', 'K', 'temperature', 'humidity', 'ph', 'rainfall']\n",
    "#  num_vars = ['temperature']\n",
    "\n",
    "# Estadísticas descriptivas\n",
    "print(\"\\n\" + \"=\" * 80)\n",
    "print(\"ESTADÍSTICAS DESCRIPTIVAS\".center(80))\n",
    "print(\"=\" * 80)\n",
    "display(crop_data[num_vars].describe().round(2).T)\n",
    "\n",
    "# Analizar variables numéricas clave\n",
    "analyze_numeric_values(crop_data, num_vars)\n",
    "\n"
   ]
  },
  {
   "cell_type": "markdown",
   "metadata": {},
   "source": [
    "#### Análisis de Entendimiento de Datos Univariado\n",
    "\n",
    "Al ejecutar script de análisis univariado podemos observar que el dataset de recomendación de cultivos contiene **2,200 muestras** con **7 variables numéricas** que describen características del suelo y condiciones agroclimáticas. Todas las variables presentan **distribuciones NO normales** (p-value < 0.05), lo que indica la necesidad de técnicas robustas de preprocesamiento y modelado.\n",
    "\n",
    "---\n",
    "\n",
    "#### 1. Análisis por Variable\n",
    "\n",
    "| Variable | Rango | Media | Mediana | Desv. Est. | CV | Asimetría | Curtosis | Outliers (%) | Características Clave |\n",
    "|----------|-------|-------|---------|------------|-----|-----------|----------|--------------|----------------------|\n",
    "| **Nitrógeno (N)** | 0-140 kg/ha | 50.55 | 37.00 | 36.92 | 73% | 0.51 | -1.06 | 0 (0%) | Alta variabilidad; asimetría positiva moderada; distribución aplastada; sin outliers |\n",
    "| **Fósforo (P)** | 0-145 kg/ha | 53.36 | 51.00 | 32.99 | 62% | 1.01 | 0.86 | 138 (6.3%) | Asimetría positiva fuerte; cola derecha pronunciada; presencia significativa de outliers |\n",
    "| **Potasio (K)** | 0-205 kg/ha | 48.15 | 32.00 | 50.65 | 105% | 2.38 | 4.45 | 200 (9.1%) | **Variable más problemática**; dispersión extrema; probable distribución bimodal; mayor proporción de outliers |\n",
    "| **Temperatura** | 8.8-43.7°C | 25.62 | 25.60 | 5.06 | 20% | 0.18 | 1.23 | 86 (3.9%) | **Variable más balanceada**; casi simétrica; menor variabilidad relativa; bien comportada |\n",
    "| **Humedad** | 14-100% | 71.48 | 80.47 | 22.26 | 31% | -1.09 | 0.30 | 30 (1.4%) | **Única con asimetría negativa**; mayoría de valores altos (70-100%); cola izquierda |\n",
    "| **pH** | 3.5-9.9 | 6.47 | 6.43 | 0.77 | 12% | 0.28 | 1.66 | 57 (2.6%) | **Variable más concentrada**; menor CV; distribución equilibrada; valores concentrados en pH neutro |\n",
    "| **Precipitación** | 20-298 mm | 103.46 | 94.87 | 54.96 | 53% | 0.97 | 0.61 | 100 (4.5%) | Alta variabilidad; asimetría positiva; discriminante para cultivos secano vs. trópico húmedo |\n",
    "\n",
    "### 2. Hallazgos Transversales\n",
    "\n",
    "#### 2.1 Normalidad\n",
    "- **0 de 7 variables** siguen distribución normal (todas p-value < 0.05)\n",
    "- **Implicación**: Modelos paramétricos tradicionales (LDA, Naive Bayes Gaussiano) pueden no ser óptimos\n",
    "- **Recomendación**: Usar modelos tree-based (Random Forest, XGBoost) que no asumen normalidad\n",
    "\n",
    "#### 2.2 Outliers\n",
    "- Por el método de IQR, se evidencia que **6 de 7 variables** tienen outliers"
   ]
  },
  {
   "cell_type": "markdown",
   "metadata": {},
   "source": [
    "#### 2. Variable Categórica (Objetivo)\n",
    "- Análisis de 'label' (22 cultivos)\n",
    "- Frecuencias y proporciones\n",
    "- Balance de clases\n",
    "- Gráficos de barras y pastel"
   ]
  },
  {
   "cell_type": "markdown",
   "metadata": {},
   "source": [
    "### Análisis de Variable Categórica"
   ]
  },
  {
   "cell_type": "code",
   "execution_count": null,
   "metadata": {},
   "outputs": [],
   "source": [
    "# Análisis de la variable categórica 'label' (cultivo recomendado)\n",
    "\n",
    "# Configuración para mostrar gráficos en Jupyter Notebook\n",
    "%matplotlib inline\n",
    "import importlib\n",
    "import analyze_categorical\n",
    "importlib.reload(analyze_categorical)\n",
    "\n",
    "from analyze_categorical import analyze_categorical\n",
    "\n",
    "analyze_categorical(crop_data, 'label')"
   ]
  },
  {
   "cell_type": "markdown",
   "metadata": {},
   "source": [
    "Nota: La **entropía** en el análisis de variables categóricas es una medida de incertidumbre o desorden en la distribución de las categorías. \n",
    "\n",
    "¿Qué significa en este contexto?\n",
    "Si todas las clases tienen frecuencias similares, la entropía será alta (máxima diversidad, distribución uniforme).\n",
    "Si una clase domina (por ejemplo, 90% de los datos), la entropía será baja (baja diversidad, alta concentración)."
   ]
  },
  {
   "cell_type": "markdown",
   "metadata": {},
   "source": [
    "#### Matriz de correlación: Relaciones entre variables\n",
    "\n",
    "**Correlación de Pearson**:\n",
    "- Mide relación **lineal** entre variables\n",
    "- Rango: [-1, +1]\n",
    "- 0 = Sin relación lineal (¡pero puede haber no-lineal!)\n",
    "\n",
    "**Interpretación**:\n",
    "- |r| < 0.1: Muy débil\n",
    "- 0.1 ≤ |r| < 0.3: Débil\n",
    "- 0.3 ≤ |r| < 0.5: Moderada\n",
    "- 0.5 ≤ |r| < 0.7: Fuerte\n",
    "- |r| ≥ 0.7: Muy fuerte\n",
    "\n",
    "**Cuidado**: Correlación ≠ Causalidad"
   ]
  },
  {
   "cell_type": "code",
   "execution_count": null,
   "metadata": {},
   "outputs": [],
   "source": [
    "# Análisis de correlación mejorado\n",
    "from correlation_analysis import correlation_analysis\n",
    "\n",
    "correlation_analysis(crop_data)"
   ]
  },
  {
   "cell_type": "markdown",
   "metadata": {},
   "source": [
    "### Interpretación de las Correlaciones\n",
    "\n",
    "**Relación destacada y única:**\n",
    "- P – K = **+0.736** → correlación muy fuerte y positiva. Sugiere posible multicolinealidad (nutrientes del suelo afectados por prácticas de fertilización similares o composición edáfica compartida).\n",
    "\n",
    "**Relación secundaria (N – K):**\n",
    "- Nitrogeno – Potasio muestra la segunda correlación más alta del conjunto pero permanece dentro del rango débil (|r| ≤ 0.231). Esto indica que NO hay una dependencia lineal fuerte entre ambos; podría reflejar prácticas de abonado combinadas o un gradiente edáfico suave, pero no alcanza niveles de preocupación por multicolinealidad. No requiere acciones de reducción (p.ej. eliminación, PCA) y en modelos lineales bastaría con regularización estándar.\n",
    "\n",
    "**Resto de correlaciones:**\n",
    "- Todas las demás están en rangos débiles o muy débiles (|r| ≤ 0.231) → baja redundancia lineal entre la mayoría de variables numéricas.\n",
    "\n",
    "**Clima entre sí:**\n",
    "- temperature – humidity = **+0.205** (débil). Plausible por co‐variación estacional / regional (más calor asociado a cierta retención de humedad en algunas zonas), pero no es determinante.\n",
    "\n",
    "**Patrones suaves adicionales:**\n",
    "- ph – rainfall = **−0.109**: ligera tendencia a menor pH (más ácido) con más lluvia; magnitud pequeña que sugiere efectos de lixiviación/acidificación leves.\n",
    "\n",
    "**Conclusión práctica:**\n",
    "- Salvo el binomio P–K, no existen dependencias lineales fuertes. Para un sistema de recomendación de cultivo (variable objetivo categórica) la señal predictiva probablemente provendrá de:\n",
    "  1. Interacciones no lineales entre nutrientes y clima.\n",
    "  2. Patrones multivariados más sutiles (combinaciones de N, P, K con pH y humedad).\n",
    "  3. Posible importancia de variables individuales sin redundancia (baja colinealidad = modelo más estable).\n",
    "\n",
    "**Implicación para modelado:**\n",
    "- Modelos lineales podrían incluir regularización para manejar la multicolinealidad P–K.\n",
    "- Árboles / ensembles (Random Forest, Gradient Boosting) capturarán interacciones sin requerir ingeniería pesada.\n",
    "- Considerar verificar VIF solo para nutrientes si se usa un modelo lineal.\n",
    "\n",
    "> En resumen: estructura de correlación limpia y parsimoniosa; no se requiere fuerte reducción por colinealidad, excepto vigilar el par P–K y monitorizar N–K si se añadieran nuevas fuentes de datos o más variables de suelo."
   ]
  },
  {
   "cell_type": "markdown",
   "metadata": {},
   "source": [
    "###Correlacion caracteristicas vs targe"
   ]
  },
  {
   "cell_type": "code",
   "execution_count": null,
   "metadata": {},
   "outputs": [],
   "source": []
  },
  {
   "cell_type": "markdown",
   "metadata": {},
   "source": [
    "### Detección de Anomalías y Outliers\n",
    "\n",
    "**Outliers:** ¿Errores o información valiosa?\n",
    "\n",
    "**Tipos de outliers**:\n",
    "1. **Errores**:\n",
    "2. **Casos raros pero válidos**: \n",
    "3. **Diferentes poblaciones**:\n",
    "\n",
    "**Métodos de detección**:\n",
    "- **IQR**: Fuera de Q1-1.5×IQR o Q3+1.5×IQR\n",
    "- **Z-score**: |z| > 3\n",
    "- **Isolation Forest**: Algoritmo de ML para anomalías\n",
    "\n",
    "#### Distribuciones problemáticas\n",
    "\n",
    "**Alta asimetría (skewness)**:\n",
    "- Problema: Muchos algoritmos asumen normalidad\n",
    "- Solución: Transformación log, sqrt o Box-Cox\n",
    "\n",
    "**Alta curtosis**:\n",
    "- Problema: Colas pesadas, muchos outliers\n",
    "- Solución: Winsorization (cap de valores extremos)"
   ]
  },
  {
   "cell_type": "code",
   "execution_count": null,
   "metadata": {},
   "outputs": [],
   "source": [
    "# Detección de outliers\n",
    "\n",
    "# Configuración para mostrar gráficos en Jupyter Notebook\n",
    "%matplotlib inline\n",
    "\n",
    "import importlib\n",
    "import detect_outliers\n",
    "importlib.reload(detect_outliers)\n",
    "\n",
    "from detect_outliers import detect_outliers\n",
    "\n",
    "outliers_iqr, outliers_zscore, outliers_iso = detect_outliers(crop_data, False)"
   ]
  },
  {
   "cell_type": "markdown",
   "metadata": {},
   "source": [
    "## 4. Fase 3: Preparación de los Datos"
   ]
  },
  {
   "cell_type": "markdown",
   "metadata": {},
   "source": [
    "---\n",
    "\n",
    "## 🎓 Material Adicional y Referencias\n",
    "\n",
    "### Referencias Bibliográficas"
   ]
  },
  {
   "cell_type": "code",
   "execution_count": null,
   "metadata": {},
   "outputs": [],
   "source": [
    "references = \"\"\"\n",
    "📚 REFERENCIAS:\n",
    "\n",
    "[1] FAO (2017). The impact of crop choice on farm profitability. Food and Agriculture Organization. http://www.fao.org/3/i7658e/i7658e.pdf\n",
    "[2] Bhola, A., & Kumar, P. (2024). Farm-Level Smart Crop Recommendation Framework Using Machine Learning. Annals of Data Science. https://link.springer.com/article/10.1007/s40745-024-00534-3\n",
    "[3] Bakr, M. A., et al. (2025). Evaluation of Learning-Based Models for Crop Recommendation in Smart Agriculture. Information, MDPI. https://www.mdpi.com/2078-2489/16/8/632\n",
    "[4] Van Klompenburg, T., Kassahun, A., & Catal, C. (2020). Crop yield prediction using machine learning: A systematic literature review. Computers and Electronics in Agriculture. https://doi.org/10.1016/j.compag.2020.105709\n",
    "[5] Lal, R. (2015). Restoring Soil Quality to Mitigate Soil Degradation. Sustainability. https://doi.org/10.3390/su7055875\n",
    "[6] Reddy, D. J., et al. (2024). Advancing crop recommendation system with supervised machine learning and explainable artificial intelligence. Scientific Reports. https://doi.org/10.1038/s41598-024-07003-8\n",
    "\"\"\"\n",
    "\n",
    "print(references)"
   ]
  }
 ],
 "metadata": {
  "kernelspec": {
   "display_name": "venv",
   "language": "python",
   "name": "python3"
  },
  "language_info": {
   "codemirror_mode": {
    "name": "ipython",
    "version": 3
   },
   "file_extension": ".py",
   "mimetype": "text/x-python",
   "name": "python",
   "nbconvert_exporter": "python",
   "pygments_lexer": "ipython3",
   "version": "3.12.3"
  },
  "nav_menu": {
   "height": "279px",
   "width": "309px"
  },
  "toc": {
   "nav_menu": {},
   "number_sections": true,
   "sideBar": true,
   "skip_h1_title": false,
   "toc_cell": false,
   "toc_position": {},
   "toc_section_display": "block",
   "toc_window_display": false
  }
 },
 "nbformat": 4,
 "nbformat_minor": 4
}
