{
 "cells": [
  {
   "cell_type": "markdown",
   "metadata": {},
   "source": [
    "# Sistema de Recomendación de Cultivos\n",
    "## Entrega 2: Modelado Regresion Logistica vs Arbol de decision vs Random Forest\n",
    "\n",
    "**Machine Learning**\n",
    "\n",
    "**Profesor:** Marco Terán  \n",
    "**Fecha:** 2025/10/22\n",
    "\n",
    "**Integrantes**\n",
    "\n",
    "- Daniel Alejandro Garcia Zuluaica\n",
    "- Edward Alejandro Rayo Cortés\n",
    "- Elizabeth Toro Chalarca\n",
    "\n",
    "___"
   ]
  },
  {
   "cell_type": "markdown",
   "metadata": {},
   "source": [
    "## 📋 Tabla de Contenidos\n",
    "\n",
    "1. **Configuración del entorno**\n",
    "2. **Carga de los datos**\n",
    "3. **Preparacion de los datos**\n",
    "4. **Comparativo Score Regresion logistica - Arbol de decision - Random Forest**"
   ]
  },
  {
   "cell_type": "markdown",
   "metadata": {},
   "source": [
    "---\n",
    "\n",
    "## 1. Configuración del Entorno\n",
    "\n",
    "### ¿Por qué importan las versiones?\n",
    "\n",
    "En ML, la reproducibilidad es crucial. Imagina que tu modelo funciona perfectamente en tu computadora pero falla en producción. La causa más común: diferentes versiones de librerías.\n",
    "\n",
    "**Regla de oro**: Siempre documenta y verifica las versiones de tus dependencias.\n",
    "\n",
    "### Librerías que usaremos\n",
    "\n",
    "- **NumPy**: El motor matemático de Python. Maneja arrays y operaciones numéricas eficientemente\n",
    "- **Pandas**: Como Excel con superpoderes. Organiza datos en DataFrames (tablas)\n",
    "- **Matplotlib/Seaborn**: Nuestros artistas. Crean visualizaciones profesionales\n",
    "- **Scikit-learn**: La navaja suiza del ML. Contiene algoritmos, métricas y utilidades\n",
    "\n",
    "### Configuración visual\n",
    "\n",
    "Los defaults de matplotlib no son los más bonitos. Vamos a configurar:\n",
    "- Estilo consistente para todos los gráficos\n",
    "- Tamaños legibles\n",
    "- Colores agradables\n",
    "- Formato de números apropiado"
   ]
  },
  {
   "cell_type": "code",
   "execution_count": null,
   "metadata": {},
   "outputs": [
    {
     "name": "stdout",
     "output_type": "stream",
     "text": [
      "✅ Python 3.12 instalado correctamente\n"
     ]
    }
   ],
   "source": [
    "# Configuración inicial del entorno\n",
    "import sys\n",
    "import warnings\n",
    "warnings.filterwarnings('ignore')\n",
    "\n",
    "# Verificar versión de Python\n",
    "assert sys.version_info >= (3, 7), \"Este notebook requiere Python 3.7 o superior\"\n",
    "\n",
    "print(f\"✅ Python {sys.version_info.major}.{sys.version_info.minor} instalado correctamente\")"
   ]
  },
  {
   "cell_type": "markdown",
   "metadata": {},
   "source": [
    "## Importando Librerias\n",
    "\n",
    "Descargarems las librerias necesarias para utilizar el modelo, esto solo se ejecuta una vez"
   ]
  },
  {
   "cell_type": "code",
   "execution_count": null,
   "metadata": {},
   "outputs": [
    {
     "name": "stdout",
     "output_type": "stream",
     "text": [
      "Requirement already satisfied: pandas>=2.0.0 in /home/elizabeth/Documentos/Especializacion EAFIT/Aprendizaje de Maquina Aplicado/Proyecto/data_exploration/venv/lib/python3.12/site-packages (from -r ../requirements.txt (line 19)) (2.3.3)\n",
      "Requirement already satisfied: numpy>=1.24.0 in /home/elizabeth/Documentos/Especializacion EAFIT/Aprendizaje de Maquina Aplicado/Proyecto/data_exploration/venv/lib/python3.12/site-packages (from -r ../requirements.txt (line 20)) (2.3.3)\n",
      "Requirement already satisfied: matplotlib>=3.7.0 in /home/elizabeth/Documentos/Especializacion EAFIT/Aprendizaje de Maquina Aplicado/Proyecto/data_exploration/venv/lib/python3.12/site-packages (from -r ../requirements.txt (line 25)) (3.10.6)\n",
      "Requirement already satisfied: seaborn>=0.12.0 in /home/elizabeth/Documentos/Especializacion EAFIT/Aprendizaje de Maquina Aplicado/Proyecto/data_exploration/venv/lib/python3.12/site-packages (from -r ../requirements.txt (line 26)) (0.13.2)\n",
      "Requirement already satisfied: plotly>=5.15.0 in /home/elizabeth/Documentos/Especializacion EAFIT/Aprendizaje de Maquina Aplicado/Proyecto/data_exploration/venv/lib/python3.12/site-packages (from -r ../requirements.txt (line 27)) (6.3.1)\n",
      "Requirement already satisfied: scikit-learn>=1.3.0 in /home/elizabeth/Documentos/Especializacion EAFIT/Aprendizaje de Maquina Aplicado/Proyecto/data_exploration/venv/lib/python3.12/site-packages (from -r ../requirements.txt (line 32)) (1.7.2)\n",
      "Requirement already satisfied: scipy>=1.10.0 in /home/elizabeth/Documentos/Especializacion EAFIT/Aprendizaje de Maquina Aplicado/Proyecto/data_exploration/venv/lib/python3.12/site-packages (from -r ../requirements.txt (line 37)) (1.16.2)\n",
      "Requirement already satisfied: jupyter>=1.0.0 in /home/elizabeth/Documentos/Especializacion EAFIT/Aprendizaje de Maquina Aplicado/Proyecto/data_exploration/venv/lib/python3.12/site-packages (from -r ../requirements.txt (line 42)) (1.1.1)\n",
      "Requirement already satisfied: ipykernel>=6.22.0 in /home/elizabeth/Documentos/Especializacion EAFIT/Aprendizaje de Maquina Aplicado/Proyecto/data_exploration/venv/lib/python3.12/site-packages (from -r ../requirements.txt (line 43)) (6.30.1)\n",
      "Requirement already satisfied: ipython>=8.12.0 in /home/elizabeth/Documentos/Especializacion EAFIT/Aprendizaje de Maquina Aplicado/Proyecto/data_exploration/venv/lib/python3.12/site-packages (from -r ../requirements.txt (line 44)) (9.6.0)\n",
      "Requirement already satisfied: kagglehub>=0.2.0 in /home/elizabeth/Documentos/Especializacion EAFIT/Aprendizaje de Maquina Aplicado/Proyecto/data_exploration/venv/lib/python3.12/site-packages (from -r ../requirements.txt (line 49)) (0.3.13)\n",
      "Requirement already satisfied: packaging>=23.0 in /home/elizabeth/Documentos/Especializacion EAFIT/Aprendizaje de Maquina Aplicado/Proyecto/data_exploration/venv/lib/python3.12/site-packages (from -r ../requirements.txt (line 54)) (25.0)\n",
      "Requirement already satisfied: python-dateutil>=2.8.2 in /home/elizabeth/Documentos/Especializacion EAFIT/Aprendizaje de Maquina Aplicado/Proyecto/data_exploration/venv/lib/python3.12/site-packages (from pandas>=2.0.0->-r ../requirements.txt (line 19)) (2.9.0.post0)\n",
      "Requirement already satisfied: pytz>=2020.1 in /home/elizabeth/Documentos/Especializacion EAFIT/Aprendizaje de Maquina Aplicado/Proyecto/data_exploration/venv/lib/python3.12/site-packages (from pandas>=2.0.0->-r ../requirements.txt (line 19)) (2025.2)\n",
      "Requirement already satisfied: tzdata>=2022.7 in /home/elizabeth/Documentos/Especializacion EAFIT/Aprendizaje de Maquina Aplicado/Proyecto/data_exploration/venv/lib/python3.12/site-packages (from pandas>=2.0.0->-r ../requirements.txt (line 19)) (2025.2)\n",
      "Requirement already satisfied: contourpy>=1.0.1 in /home/elizabeth/Documentos/Especializacion EAFIT/Aprendizaje de Maquina Aplicado/Proyecto/data_exploration/venv/lib/python3.12/site-packages (from matplotlib>=3.7.0->-r ../requirements.txt (line 25)) (1.3.3)\n",
      "Requirement already satisfied: cycler>=0.10 in /home/elizabeth/Documentos/Especializacion EAFIT/Aprendizaje de Maquina Aplicado/Proyecto/data_exploration/venv/lib/python3.12/site-packages (from matplotlib>=3.7.0->-r ../requirements.txt (line 25)) (0.12.1)\n",
      "Requirement already satisfied: fonttools>=4.22.0 in /home/elizabeth/Documentos/Especializacion EAFIT/Aprendizaje de Maquina Aplicado/Proyecto/data_exploration/venv/lib/python3.12/site-packages (from matplotlib>=3.7.0->-r ../requirements.txt (line 25)) (4.60.1)\n",
      "Requirement already satisfied: kiwisolver>=1.3.1 in /home/elizabeth/Documentos/Especializacion EAFIT/Aprendizaje de Maquina Aplicado/Proyecto/data_exploration/venv/lib/python3.12/site-packages (from matplotlib>=3.7.0->-r ../requirements.txt (line 25)) (1.4.9)\n",
      "Requirement already satisfied: pillow>=8 in /home/elizabeth/Documentos/Especializacion EAFIT/Aprendizaje de Maquina Aplicado/Proyecto/data_exploration/venv/lib/python3.12/site-packages (from matplotlib>=3.7.0->-r ../requirements.txt (line 25)) (11.3.0)\n",
      "Requirement already satisfied: pyparsing>=2.3.1 in /home/elizabeth/Documentos/Especializacion EAFIT/Aprendizaje de Maquina Aplicado/Proyecto/data_exploration/venv/lib/python3.12/site-packages (from matplotlib>=3.7.0->-r ../requirements.txt (line 25)) (3.2.5)\n",
      "Requirement already satisfied: narwhals>=1.15.1 in /home/elizabeth/Documentos/Especializacion EAFIT/Aprendizaje de Maquina Aplicado/Proyecto/data_exploration/venv/lib/python3.12/site-packages (from plotly>=5.15.0->-r ../requirements.txt (line 27)) (2.9.0)\n",
      "Requirement already satisfied: joblib>=1.2.0 in /home/elizabeth/Documentos/Especializacion EAFIT/Aprendizaje de Maquina Aplicado/Proyecto/data_exploration/venv/lib/python3.12/site-packages (from scikit-learn>=1.3.0->-r ../requirements.txt (line 32)) (1.5.2)\n",
      "Requirement already satisfied: threadpoolctl>=3.1.0 in /home/elizabeth/Documentos/Especializacion EAFIT/Aprendizaje de Maquina Aplicado/Proyecto/data_exploration/venv/lib/python3.12/site-packages (from scikit-learn>=1.3.0->-r ../requirements.txt (line 32)) (3.6.0)\n",
      "Requirement already satisfied: notebook in /home/elizabeth/Documentos/Especializacion EAFIT/Aprendizaje de Maquina Aplicado/Proyecto/data_exploration/venv/lib/python3.12/site-packages (from jupyter>=1.0.0->-r ../requirements.txt (line 42)) (7.4.7)\n",
      "Requirement already satisfied: jupyter-console in /home/elizabeth/Documentos/Especializacion EAFIT/Aprendizaje de Maquina Aplicado/Proyecto/data_exploration/venv/lib/python3.12/site-packages (from jupyter>=1.0.0->-r ../requirements.txt (line 42)) (6.6.3)\n",
      "Requirement already satisfied: nbconvert in /home/elizabeth/Documentos/Especializacion EAFIT/Aprendizaje de Maquina Aplicado/Proyecto/data_exploration/venv/lib/python3.12/site-packages (from jupyter>=1.0.0->-r ../requirements.txt (line 42)) (7.16.6)\n",
      "Requirement already satisfied: ipywidgets in /home/elizabeth/Documentos/Especializacion EAFIT/Aprendizaje de Maquina Aplicado/Proyecto/data_exploration/venv/lib/python3.12/site-packages (from jupyter>=1.0.0->-r ../requirements.txt (line 42)) (8.1.7)\n",
      "Requirement already satisfied: jupyterlab in /home/elizabeth/Documentos/Especializacion EAFIT/Aprendizaje de Maquina Aplicado/Proyecto/data_exploration/venv/lib/python3.12/site-packages (from jupyter>=1.0.0->-r ../requirements.txt (line 42)) (4.4.9)\n",
      "Requirement already satisfied: comm>=0.1.1 in /home/elizabeth/Documentos/Especializacion EAFIT/Aprendizaje de Maquina Aplicado/Proyecto/data_exploration/venv/lib/python3.12/site-packages (from ipykernel>=6.22.0->-r ../requirements.txt (line 43)) (0.2.3)\n",
      "Requirement already satisfied: debugpy>=1.6.5 in /home/elizabeth/Documentos/Especializacion EAFIT/Aprendizaje de Maquina Aplicado/Proyecto/data_exploration/venv/lib/python3.12/site-packages (from ipykernel>=6.22.0->-r ../requirements.txt (line 43)) (1.8.17)\n",
      "Requirement already satisfied: jupyter-client>=8.0.0 in /home/elizabeth/Documentos/Especializacion EAFIT/Aprendizaje de Maquina Aplicado/Proyecto/data_exploration/venv/lib/python3.12/site-packages (from ipykernel>=6.22.0->-r ../requirements.txt (line 43)) (8.6.3)\n",
      "Requirement already satisfied: jupyter-core!=5.0.*,>=4.12 in /home/elizabeth/Documentos/Especializacion EAFIT/Aprendizaje de Maquina Aplicado/Proyecto/data_exploration/venv/lib/python3.12/site-packages (from ipykernel>=6.22.0->-r ../requirements.txt (line 43)) (5.8.1)\n",
      "Requirement already satisfied: matplotlib-inline>=0.1 in /home/elizabeth/Documentos/Especializacion EAFIT/Aprendizaje de Maquina Aplicado/Proyecto/data_exploration/venv/lib/python3.12/site-packages (from ipykernel>=6.22.0->-r ../requirements.txt (line 43)) (0.1.7)\n",
      "Requirement already satisfied: nest-asyncio>=1.4 in /home/elizabeth/Documentos/Especializacion EAFIT/Aprendizaje de Maquina Aplicado/Proyecto/data_exploration/venv/lib/python3.12/site-packages (from ipykernel>=6.22.0->-r ../requirements.txt (line 43)) (1.6.0)\n",
      "Requirement already satisfied: psutil>=5.7 in /home/elizabeth/Documentos/Especializacion EAFIT/Aprendizaje de Maquina Aplicado/Proyecto/data_exploration/venv/lib/python3.12/site-packages (from ipykernel>=6.22.0->-r ../requirements.txt (line 43)) (7.1.0)\n",
      "Requirement already satisfied: pyzmq>=25 in /home/elizabeth/Documentos/Especializacion EAFIT/Aprendizaje de Maquina Aplicado/Proyecto/data_exploration/venv/lib/python3.12/site-packages (from ipykernel>=6.22.0->-r ../requirements.txt (line 43)) (27.1.0)\n",
      "Requirement already satisfied: tornado>=6.2 in /home/elizabeth/Documentos/Especializacion EAFIT/Aprendizaje de Maquina Aplicado/Proyecto/data_exploration/venv/lib/python3.12/site-packages (from ipykernel>=6.22.0->-r ../requirements.txt (line 43)) (6.5.2)\n",
      "Requirement already satisfied: traitlets>=5.4.0 in /home/elizabeth/Documentos/Especializacion EAFIT/Aprendizaje de Maquina Aplicado/Proyecto/data_exploration/venv/lib/python3.12/site-packages (from ipykernel>=6.22.0->-r ../requirements.txt (line 43)) (5.14.3)\n",
      "Requirement already satisfied: decorator in /home/elizabeth/Documentos/Especializacion EAFIT/Aprendizaje de Maquina Aplicado/Proyecto/data_exploration/venv/lib/python3.12/site-packages (from ipython>=8.12.0->-r ../requirements.txt (line 44)) (5.2.1)\n",
      "Requirement already satisfied: ipython-pygments-lexers in /home/elizabeth/Documentos/Especializacion EAFIT/Aprendizaje de Maquina Aplicado/Proyecto/data_exploration/venv/lib/python3.12/site-packages (from ipython>=8.12.0->-r ../requirements.txt (line 44)) (1.1.1)\n",
      "Requirement already satisfied: jedi>=0.16 in /home/elizabeth/Documentos/Especializacion EAFIT/Aprendizaje de Maquina Aplicado/Proyecto/data_exploration/venv/lib/python3.12/site-packages (from ipython>=8.12.0->-r ../requirements.txt (line 44)) (0.19.2)\n",
      "Requirement already satisfied: pexpect>4.3 in /home/elizabeth/Documentos/Especializacion EAFIT/Aprendizaje de Maquina Aplicado/Proyecto/data_exploration/venv/lib/python3.12/site-packages (from ipython>=8.12.0->-r ../requirements.txt (line 44)) (4.9.0)\n",
      "Requirement already satisfied: prompt_toolkit<3.1.0,>=3.0.41 in /home/elizabeth/Documentos/Especializacion EAFIT/Aprendizaje de Maquina Aplicado/Proyecto/data_exploration/venv/lib/python3.12/site-packages (from ipython>=8.12.0->-r ../requirements.txt (line 44)) (3.0.52)\n",
      "Requirement already satisfied: pygments>=2.4.0 in /home/elizabeth/Documentos/Especializacion EAFIT/Aprendizaje de Maquina Aplicado/Proyecto/data_exploration/venv/lib/python3.12/site-packages (from ipython>=8.12.0->-r ../requirements.txt (line 44)) (2.19.2)\n",
      "Requirement already satisfied: stack_data in /home/elizabeth/Documentos/Especializacion EAFIT/Aprendizaje de Maquina Aplicado/Proyecto/data_exploration/venv/lib/python3.12/site-packages (from ipython>=8.12.0->-r ../requirements.txt (line 44)) (0.6.3)\n",
      "Requirement already satisfied: pyyaml in /home/elizabeth/Documentos/Especializacion EAFIT/Aprendizaje de Maquina Aplicado/Proyecto/data_exploration/venv/lib/python3.12/site-packages (from kagglehub>=0.2.0->-r ../requirements.txt (line 49)) (6.0.3)\n",
      "Requirement already satisfied: requests in /home/elizabeth/Documentos/Especializacion EAFIT/Aprendizaje de Maquina Aplicado/Proyecto/data_exploration/venv/lib/python3.12/site-packages (from kagglehub>=0.2.0->-r ../requirements.txt (line 49)) (2.32.5)\n",
      "Requirement already satisfied: tqdm in /home/elizabeth/Documentos/Especializacion EAFIT/Aprendizaje de Maquina Aplicado/Proyecto/data_exploration/venv/lib/python3.12/site-packages (from kagglehub>=0.2.0->-r ../requirements.txt (line 49)) (4.67.1)\n",
      "Requirement already satisfied: parso<0.9.0,>=0.8.4 in /home/elizabeth/Documentos/Especializacion EAFIT/Aprendizaje de Maquina Aplicado/Proyecto/data_exploration/venv/lib/python3.12/site-packages (from jedi>=0.16->ipython>=8.12.0->-r ../requirements.txt (line 44)) (0.8.5)\n",
      "Requirement already satisfied: platformdirs>=2.5 in /home/elizabeth/Documentos/Especializacion EAFIT/Aprendizaje de Maquina Aplicado/Proyecto/data_exploration/venv/lib/python3.12/site-packages (from jupyter-core!=5.0.*,>=4.12->ipykernel>=6.22.0->-r ../requirements.txt (line 43)) (4.4.0)\n",
      "Requirement already satisfied: ptyprocess>=0.5 in /home/elizabeth/Documentos/Especializacion EAFIT/Aprendizaje de Maquina Aplicado/Proyecto/data_exploration/venv/lib/python3.12/site-packages (from pexpect>4.3->ipython>=8.12.0->-r ../requirements.txt (line 44)) (0.7.0)\n",
      "Requirement already satisfied: wcwidth in /home/elizabeth/Documentos/Especializacion EAFIT/Aprendizaje de Maquina Aplicado/Proyecto/data_exploration/venv/lib/python3.12/site-packages (from prompt_toolkit<3.1.0,>=3.0.41->ipython>=8.12.0->-r ../requirements.txt (line 44)) (0.2.14)\n",
      "Requirement already satisfied: six>=1.5 in /home/elizabeth/Documentos/Especializacion EAFIT/Aprendizaje de Maquina Aplicado/Proyecto/data_exploration/venv/lib/python3.12/site-packages (from python-dateutil>=2.8.2->pandas>=2.0.0->-r ../requirements.txt (line 19)) (1.17.0)\n",
      "Requirement already satisfied: widgetsnbextension~=4.0.14 in /home/elizabeth/Documentos/Especializacion EAFIT/Aprendizaje de Maquina Aplicado/Proyecto/data_exploration/venv/lib/python3.12/site-packages (from ipywidgets->jupyter>=1.0.0->-r ../requirements.txt (line 42)) (4.0.14)\n",
      "Requirement already satisfied: jupyterlab_widgets~=3.0.15 in /home/elizabeth/Documentos/Especializacion EAFIT/Aprendizaje de Maquina Aplicado/Proyecto/data_exploration/venv/lib/python3.12/site-packages (from ipywidgets->jupyter>=1.0.0->-r ../requirements.txt (line 42)) (3.0.15)\n",
      "Requirement already satisfied: async-lru>=1.0.0 in /home/elizabeth/Documentos/Especializacion EAFIT/Aprendizaje de Maquina Aplicado/Proyecto/data_exploration/venv/lib/python3.12/site-packages (from jupyterlab->jupyter>=1.0.0->-r ../requirements.txt (line 42)) (2.0.5)\n",
      "Requirement already satisfied: httpx<1,>=0.25.0 in /home/elizabeth/Documentos/Especializacion EAFIT/Aprendizaje de Maquina Aplicado/Proyecto/data_exploration/venv/lib/python3.12/site-packages (from jupyterlab->jupyter>=1.0.0->-r ../requirements.txt (line 42)) (0.28.1)\n",
      "Requirement already satisfied: jinja2>=3.0.3 in /home/elizabeth/Documentos/Especializacion EAFIT/Aprendizaje de Maquina Aplicado/Proyecto/data_exploration/venv/lib/python3.12/site-packages (from jupyterlab->jupyter>=1.0.0->-r ../requirements.txt (line 42)) (3.1.6)\n",
      "Requirement already satisfied: jupyter-lsp>=2.0.0 in /home/elizabeth/Documentos/Especializacion EAFIT/Aprendizaje de Maquina Aplicado/Proyecto/data_exploration/venv/lib/python3.12/site-packages (from jupyterlab->jupyter>=1.0.0->-r ../requirements.txt (line 42)) (2.3.0)\n",
      "Requirement already satisfied: jupyter-server<3,>=2.4.0 in /home/elizabeth/Documentos/Especializacion EAFIT/Aprendizaje de Maquina Aplicado/Proyecto/data_exploration/venv/lib/python3.12/site-packages (from jupyterlab->jupyter>=1.0.0->-r ../requirements.txt (line 42)) (2.17.0)\n",
      "Requirement already satisfied: jupyterlab-server<3,>=2.27.1 in /home/elizabeth/Documentos/Especializacion EAFIT/Aprendizaje de Maquina Aplicado/Proyecto/data_exploration/venv/lib/python3.12/site-packages (from jupyterlab->jupyter>=1.0.0->-r ../requirements.txt (line 42)) (2.27.3)\n",
      "Requirement already satisfied: notebook-shim>=0.2 in /home/elizabeth/Documentos/Especializacion EAFIT/Aprendizaje de Maquina Aplicado/Proyecto/data_exploration/venv/lib/python3.12/site-packages (from jupyterlab->jupyter>=1.0.0->-r ../requirements.txt (line 42)) (0.2.4)\n",
      "Requirement already satisfied: setuptools>=41.1.0 in /home/elizabeth/Documentos/Especializacion EAFIT/Aprendizaje de Maquina Aplicado/Proyecto/data_exploration/venv/lib/python3.12/site-packages (from jupyterlab->jupyter>=1.0.0->-r ../requirements.txt (line 42)) (80.9.0)\n",
      "Requirement already satisfied: beautifulsoup4 in /home/elizabeth/Documentos/Especializacion EAFIT/Aprendizaje de Maquina Aplicado/Proyecto/data_exploration/venv/lib/python3.12/site-packages (from nbconvert->jupyter>=1.0.0->-r ../requirements.txt (line 42)) (4.14.2)\n",
      "Requirement already satisfied: bleach!=5.0.0 in /home/elizabeth/Documentos/Especializacion EAFIT/Aprendizaje de Maquina Aplicado/Proyecto/data_exploration/venv/lib/python3.12/site-packages (from bleach[css]!=5.0.0->nbconvert->jupyter>=1.0.0->-r ../requirements.txt (line 42)) (6.2.0)\n",
      "Requirement already satisfied: defusedxml in /home/elizabeth/Documentos/Especializacion EAFIT/Aprendizaje de Maquina Aplicado/Proyecto/data_exploration/venv/lib/python3.12/site-packages (from nbconvert->jupyter>=1.0.0->-r ../requirements.txt (line 42)) (0.7.1)\n",
      "Requirement already satisfied: jupyterlab-pygments in /home/elizabeth/Documentos/Especializacion EAFIT/Aprendizaje de Maquina Aplicado/Proyecto/data_exploration/venv/lib/python3.12/site-packages (from nbconvert->jupyter>=1.0.0->-r ../requirements.txt (line 42)) (0.3.0)\n",
      "Requirement already satisfied: markupsafe>=2.0 in /home/elizabeth/Documentos/Especializacion EAFIT/Aprendizaje de Maquina Aplicado/Proyecto/data_exploration/venv/lib/python3.12/site-packages (from nbconvert->jupyter>=1.0.0->-r ../requirements.txt (line 42)) (3.0.3)\n",
      "Requirement already satisfied: mistune<4,>=2.0.3 in /home/elizabeth/Documentos/Especializacion EAFIT/Aprendizaje de Maquina Aplicado/Proyecto/data_exploration/venv/lib/python3.12/site-packages (from nbconvert->jupyter>=1.0.0->-r ../requirements.txt (line 42)) (3.1.4)\n",
      "Requirement already satisfied: nbclient>=0.5.0 in /home/elizabeth/Documentos/Especializacion EAFIT/Aprendizaje de Maquina Aplicado/Proyecto/data_exploration/venv/lib/python3.12/site-packages (from nbconvert->jupyter>=1.0.0->-r ../requirements.txt (line 42)) (0.10.2)\n",
      "Requirement already satisfied: nbformat>=5.7 in /home/elizabeth/Documentos/Especializacion EAFIT/Aprendizaje de Maquina Aplicado/Proyecto/data_exploration/venv/lib/python3.12/site-packages (from nbconvert->jupyter>=1.0.0->-r ../requirements.txt (line 42)) (5.10.4)\n",
      "Requirement already satisfied: pandocfilters>=1.4.1 in /home/elizabeth/Documentos/Especializacion EAFIT/Aprendizaje de Maquina Aplicado/Proyecto/data_exploration/venv/lib/python3.12/site-packages (from nbconvert->jupyter>=1.0.0->-r ../requirements.txt (line 42)) (1.5.1)\n",
      "Requirement already satisfied: charset_normalizer<4,>=2 in /home/elizabeth/Documentos/Especializacion EAFIT/Aprendizaje de Maquina Aplicado/Proyecto/data_exploration/venv/lib/python3.12/site-packages (from requests->kagglehub>=0.2.0->-r ../requirements.txt (line 49)) (3.4.3)\n",
      "Requirement already satisfied: idna<4,>=2.5 in /home/elizabeth/Documentos/Especializacion EAFIT/Aprendizaje de Maquina Aplicado/Proyecto/data_exploration/venv/lib/python3.12/site-packages (from requests->kagglehub>=0.2.0->-r ../requirements.txt (line 49)) (3.10)\n",
      "Requirement already satisfied: urllib3<3,>=1.21.1 in /home/elizabeth/Documentos/Especializacion EAFIT/Aprendizaje de Maquina Aplicado/Proyecto/data_exploration/venv/lib/python3.12/site-packages (from requests->kagglehub>=0.2.0->-r ../requirements.txt (line 49)) (2.5.0)\n",
      "Requirement already satisfied: certifi>=2017.4.17 in /home/elizabeth/Documentos/Especializacion EAFIT/Aprendizaje de Maquina Aplicado/Proyecto/data_exploration/venv/lib/python3.12/site-packages (from requests->kagglehub>=0.2.0->-r ../requirements.txt (line 49)) (2025.8.3)\n",
      "Requirement already satisfied: executing>=1.2.0 in /home/elizabeth/Documentos/Especializacion EAFIT/Aprendizaje de Maquina Aplicado/Proyecto/data_exploration/venv/lib/python3.12/site-packages (from stack_data->ipython>=8.12.0->-r ../requirements.txt (line 44)) (2.2.1)\n",
      "Requirement already satisfied: asttokens>=2.1.0 in /home/elizabeth/Documentos/Especializacion EAFIT/Aprendizaje de Maquina Aplicado/Proyecto/data_exploration/venv/lib/python3.12/site-packages (from stack_data->ipython>=8.12.0->-r ../requirements.txt (line 44)) (3.0.0)\n",
      "Requirement already satisfied: pure-eval in /home/elizabeth/Documentos/Especializacion EAFIT/Aprendizaje de Maquina Aplicado/Proyecto/data_exploration/venv/lib/python3.12/site-packages (from stack_data->ipython>=8.12.0->-r ../requirements.txt (line 44)) (0.2.3)\n",
      "Requirement already satisfied: webencodings in /home/elizabeth/Documentos/Especializacion EAFIT/Aprendizaje de Maquina Aplicado/Proyecto/data_exploration/venv/lib/python3.12/site-packages (from bleach!=5.0.0->bleach[css]!=5.0.0->nbconvert->jupyter>=1.0.0->-r ../requirements.txt (line 42)) (0.5.1)\n",
      "Requirement already satisfied: tinycss2<1.5,>=1.1.0 in /home/elizabeth/Documentos/Especializacion EAFIT/Aprendizaje de Maquina Aplicado/Proyecto/data_exploration/venv/lib/python3.12/site-packages (from bleach[css]!=5.0.0->nbconvert->jupyter>=1.0.0->-r ../requirements.txt (line 42)) (1.4.0)\n",
      "Requirement already satisfied: anyio in /home/elizabeth/Documentos/Especializacion EAFIT/Aprendizaje de Maquina Aplicado/Proyecto/data_exploration/venv/lib/python3.12/site-packages (from httpx<1,>=0.25.0->jupyterlab->jupyter>=1.0.0->-r ../requirements.txt (line 42)) (4.11.0)\n",
      "Requirement already satisfied: httpcore==1.* in /home/elizabeth/Documentos/Especializacion EAFIT/Aprendizaje de Maquina Aplicado/Proyecto/data_exploration/venv/lib/python3.12/site-packages (from httpx<1,>=0.25.0->jupyterlab->jupyter>=1.0.0->-r ../requirements.txt (line 42)) (1.0.9)\n",
      "Requirement already satisfied: h11>=0.16 in /home/elizabeth/Documentos/Especializacion EAFIT/Aprendizaje de Maquina Aplicado/Proyecto/data_exploration/venv/lib/python3.12/site-packages (from httpcore==1.*->httpx<1,>=0.25.0->jupyterlab->jupyter>=1.0.0->-r ../requirements.txt (line 42)) (0.16.0)\n",
      "Requirement already satisfied: argon2-cffi>=21.1 in /home/elizabeth/Documentos/Especializacion EAFIT/Aprendizaje de Maquina Aplicado/Proyecto/data_exploration/venv/lib/python3.12/site-packages (from jupyter-server<3,>=2.4.0->jupyterlab->jupyter>=1.0.0->-r ../requirements.txt (line 42)) (25.1.0)\n",
      "Requirement already satisfied: jupyter-events>=0.11.0 in /home/elizabeth/Documentos/Especializacion EAFIT/Aprendizaje de Maquina Aplicado/Proyecto/data_exploration/venv/lib/python3.12/site-packages (from jupyter-server<3,>=2.4.0->jupyterlab->jupyter>=1.0.0->-r ../requirements.txt (line 42)) (0.12.0)\n",
      "Requirement already satisfied: jupyter-server-terminals>=0.4.4 in /home/elizabeth/Documentos/Especializacion EAFIT/Aprendizaje de Maquina Aplicado/Proyecto/data_exploration/venv/lib/python3.12/site-packages (from jupyter-server<3,>=2.4.0->jupyterlab->jupyter>=1.0.0->-r ../requirements.txt (line 42)) (0.5.3)\n",
      "Requirement already satisfied: prometheus-client>=0.9 in /home/elizabeth/Documentos/Especializacion EAFIT/Aprendizaje de Maquina Aplicado/Proyecto/data_exploration/venv/lib/python3.12/site-packages (from jupyter-server<3,>=2.4.0->jupyterlab->jupyter>=1.0.0->-r ../requirements.txt (line 42)) (0.23.1)\n",
      "Requirement already satisfied: send2trash>=1.8.2 in /home/elizabeth/Documentos/Especializacion EAFIT/Aprendizaje de Maquina Aplicado/Proyecto/data_exploration/venv/lib/python3.12/site-packages (from jupyter-server<3,>=2.4.0->jupyterlab->jupyter>=1.0.0->-r ../requirements.txt (line 42)) (1.8.3)\n",
      "Requirement already satisfied: terminado>=0.8.3 in /home/elizabeth/Documentos/Especializacion EAFIT/Aprendizaje de Maquina Aplicado/Proyecto/data_exploration/venv/lib/python3.12/site-packages (from jupyter-server<3,>=2.4.0->jupyterlab->jupyter>=1.0.0->-r ../requirements.txt (line 42)) (0.18.1)\n",
      "Requirement already satisfied: websocket-client>=1.7 in /home/elizabeth/Documentos/Especializacion EAFIT/Aprendizaje de Maquina Aplicado/Proyecto/data_exploration/venv/lib/python3.12/site-packages (from jupyter-server<3,>=2.4.0->jupyterlab->jupyter>=1.0.0->-r ../requirements.txt (line 42)) (1.8.0)\n",
      "Requirement already satisfied: babel>=2.10 in /home/elizabeth/Documentos/Especializacion EAFIT/Aprendizaje de Maquina Aplicado/Proyecto/data_exploration/venv/lib/python3.12/site-packages (from jupyterlab-server<3,>=2.27.1->jupyterlab->jupyter>=1.0.0->-r ../requirements.txt (line 42)) (2.17.0)\n",
      "Requirement already satisfied: json5>=0.9.0 in /home/elizabeth/Documentos/Especializacion EAFIT/Aprendizaje de Maquina Aplicado/Proyecto/data_exploration/venv/lib/python3.12/site-packages (from jupyterlab-server<3,>=2.27.1->jupyterlab->jupyter>=1.0.0->-r ../requirements.txt (line 42)) (0.12.1)\n",
      "Requirement already satisfied: jsonschema>=4.18.0 in /home/elizabeth/Documentos/Especializacion EAFIT/Aprendizaje de Maquina Aplicado/Proyecto/data_exploration/venv/lib/python3.12/site-packages (from jupyterlab-server<3,>=2.27.1->jupyterlab->jupyter>=1.0.0->-r ../requirements.txt (line 42)) (4.25.1)\n",
      "Requirement already satisfied: fastjsonschema>=2.15 in /home/elizabeth/Documentos/Especializacion EAFIT/Aprendizaje de Maquina Aplicado/Proyecto/data_exploration/venv/lib/python3.12/site-packages (from nbformat>=5.7->nbconvert->jupyter>=1.0.0->-r ../requirements.txt (line 42)) (2.21.2)\n",
      "Requirement already satisfied: soupsieve>1.2 in /home/elizabeth/Documentos/Especializacion EAFIT/Aprendizaje de Maquina Aplicado/Proyecto/data_exploration/venv/lib/python3.12/site-packages (from beautifulsoup4->nbconvert->jupyter>=1.0.0->-r ../requirements.txt (line 42)) (2.8)\n",
      "Requirement already satisfied: typing-extensions>=4.0.0 in /home/elizabeth/Documentos/Especializacion EAFIT/Aprendizaje de Maquina Aplicado/Proyecto/data_exploration/venv/lib/python3.12/site-packages (from beautifulsoup4->nbconvert->jupyter>=1.0.0->-r ../requirements.txt (line 42)) (4.15.0)\n",
      "Requirement already satisfied: sniffio>=1.1 in /home/elizabeth/Documentos/Especializacion EAFIT/Aprendizaje de Maquina Aplicado/Proyecto/data_exploration/venv/lib/python3.12/site-packages (from anyio->httpx<1,>=0.25.0->jupyterlab->jupyter>=1.0.0->-r ../requirements.txt (line 42)) (1.3.1)\n",
      "Requirement already satisfied: argon2-cffi-bindings in /home/elizabeth/Documentos/Especializacion EAFIT/Aprendizaje de Maquina Aplicado/Proyecto/data_exploration/venv/lib/python3.12/site-packages (from argon2-cffi>=21.1->jupyter-server<3,>=2.4.0->jupyterlab->jupyter>=1.0.0->-r ../requirements.txt (line 42)) (25.1.0)\n",
      "Requirement already satisfied: attrs>=22.2.0 in /home/elizabeth/Documentos/Especializacion EAFIT/Aprendizaje de Maquina Aplicado/Proyecto/data_exploration/venv/lib/python3.12/site-packages (from jsonschema>=4.18.0->jupyterlab-server<3,>=2.27.1->jupyterlab->jupyter>=1.0.0->-r ../requirements.txt (line 42)) (25.3.0)\n",
      "Requirement already satisfied: jsonschema-specifications>=2023.03.6 in /home/elizabeth/Documentos/Especializacion EAFIT/Aprendizaje de Maquina Aplicado/Proyecto/data_exploration/venv/lib/python3.12/site-packages (from jsonschema>=4.18.0->jupyterlab-server<3,>=2.27.1->jupyterlab->jupyter>=1.0.0->-r ../requirements.txt (line 42)) (2025.9.1)\n",
      "Requirement already satisfied: referencing>=0.28.4 in /home/elizabeth/Documentos/Especializacion EAFIT/Aprendizaje de Maquina Aplicado/Proyecto/data_exploration/venv/lib/python3.12/site-packages (from jsonschema>=4.18.0->jupyterlab-server<3,>=2.27.1->jupyterlab->jupyter>=1.0.0->-r ../requirements.txt (line 42)) (0.36.2)\n",
      "Requirement already satisfied: rpds-py>=0.7.1 in /home/elizabeth/Documentos/Especializacion EAFIT/Aprendizaje de Maquina Aplicado/Proyecto/data_exploration/venv/lib/python3.12/site-packages (from jsonschema>=4.18.0->jupyterlab-server<3,>=2.27.1->jupyterlab->jupyter>=1.0.0->-r ../requirements.txt (line 42)) (0.27.1)\n",
      "Requirement already satisfied: python-json-logger>=2.0.4 in /home/elizabeth/Documentos/Especializacion EAFIT/Aprendizaje de Maquina Aplicado/Proyecto/data_exploration/venv/lib/python3.12/site-packages (from jupyter-events>=0.11.0->jupyter-server<3,>=2.4.0->jupyterlab->jupyter>=1.0.0->-r ../requirements.txt (line 42)) (3.3.0)\n",
      "Requirement already satisfied: rfc3339-validator in /home/elizabeth/Documentos/Especializacion EAFIT/Aprendizaje de Maquina Aplicado/Proyecto/data_exploration/venv/lib/python3.12/site-packages (from jupyter-events>=0.11.0->jupyter-server<3,>=2.4.0->jupyterlab->jupyter>=1.0.0->-r ../requirements.txt (line 42)) (0.1.4)\n",
      "Requirement already satisfied: rfc3986-validator>=0.1.1 in /home/elizabeth/Documentos/Especializacion EAFIT/Aprendizaje de Maquina Aplicado/Proyecto/data_exploration/venv/lib/python3.12/site-packages (from jupyter-events>=0.11.0->jupyter-server<3,>=2.4.0->jupyterlab->jupyter>=1.0.0->-r ../requirements.txt (line 42)) (0.1.1)\n",
      "Requirement already satisfied: fqdn in /home/elizabeth/Documentos/Especializacion EAFIT/Aprendizaje de Maquina Aplicado/Proyecto/data_exploration/venv/lib/python3.12/site-packages (from jsonschema[format-nongpl]>=4.18.0->jupyter-events>=0.11.0->jupyter-server<3,>=2.4.0->jupyterlab->jupyter>=1.0.0->-r ../requirements.txt (line 42)) (1.5.1)\n",
      "Requirement already satisfied: isoduration in /home/elizabeth/Documentos/Especializacion EAFIT/Aprendizaje de Maquina Aplicado/Proyecto/data_exploration/venv/lib/python3.12/site-packages (from jsonschema[format-nongpl]>=4.18.0->jupyter-events>=0.11.0->jupyter-server<3,>=2.4.0->jupyterlab->jupyter>=1.0.0->-r ../requirements.txt (line 42)) (20.11.0)\n",
      "Requirement already satisfied: jsonpointer>1.13 in /home/elizabeth/Documentos/Especializacion EAFIT/Aprendizaje de Maquina Aplicado/Proyecto/data_exploration/venv/lib/python3.12/site-packages (from jsonschema[format-nongpl]>=4.18.0->jupyter-events>=0.11.0->jupyter-server<3,>=2.4.0->jupyterlab->jupyter>=1.0.0->-r ../requirements.txt (line 42)) (3.0.0)\n",
      "Requirement already satisfied: rfc3987-syntax>=1.1.0 in /home/elizabeth/Documentos/Especializacion EAFIT/Aprendizaje de Maquina Aplicado/Proyecto/data_exploration/venv/lib/python3.12/site-packages (from jsonschema[format-nongpl]>=4.18.0->jupyter-events>=0.11.0->jupyter-server<3,>=2.4.0->jupyterlab->jupyter>=1.0.0->-r ../requirements.txt (line 42)) (1.1.0)\n",
      "Requirement already satisfied: uri-template in /home/elizabeth/Documentos/Especializacion EAFIT/Aprendizaje de Maquina Aplicado/Proyecto/data_exploration/venv/lib/python3.12/site-packages (from jsonschema[format-nongpl]>=4.18.0->jupyter-events>=0.11.0->jupyter-server<3,>=2.4.0->jupyterlab->jupyter>=1.0.0->-r ../requirements.txt (line 42)) (1.3.0)\n",
      "Requirement already satisfied: webcolors>=24.6.0 in /home/elizabeth/Documentos/Especializacion EAFIT/Aprendizaje de Maquina Aplicado/Proyecto/data_exploration/venv/lib/python3.12/site-packages (from jsonschema[format-nongpl]>=4.18.0->jupyter-events>=0.11.0->jupyter-server<3,>=2.4.0->jupyterlab->jupyter>=1.0.0->-r ../requirements.txt (line 42)) (24.11.1)\n",
      "Requirement already satisfied: cffi>=1.0.1 in /home/elizabeth/Documentos/Especializacion EAFIT/Aprendizaje de Maquina Aplicado/Proyecto/data_exploration/venv/lib/python3.12/site-packages (from argon2-cffi-bindings->argon2-cffi>=21.1->jupyter-server<3,>=2.4.0->jupyterlab->jupyter>=1.0.0->-r ../requirements.txt (line 42)) (2.0.0)\n",
      "Requirement already satisfied: pycparser in /home/elizabeth/Documentos/Especializacion EAFIT/Aprendizaje de Maquina Aplicado/Proyecto/data_exploration/venv/lib/python3.12/site-packages (from cffi>=1.0.1->argon2-cffi-bindings->argon2-cffi>=21.1->jupyter-server<3,>=2.4.0->jupyterlab->jupyter>=1.0.0->-r ../requirements.txt (line 42)) (2.23)\n",
      "Requirement already satisfied: lark>=1.2.2 in /home/elizabeth/Documentos/Especializacion EAFIT/Aprendizaje de Maquina Aplicado/Proyecto/data_exploration/venv/lib/python3.12/site-packages (from rfc3987-syntax>=1.1.0->jsonschema[format-nongpl]>=4.18.0->jupyter-events>=0.11.0->jupyter-server<3,>=2.4.0->jupyterlab->jupyter>=1.0.0->-r ../requirements.txt (line 42)) (1.3.0)\n",
      "Requirement already satisfied: arrow>=0.15.0 in /home/elizabeth/Documentos/Especializacion EAFIT/Aprendizaje de Maquina Aplicado/Proyecto/data_exploration/venv/lib/python3.12/site-packages (from isoduration->jsonschema[format-nongpl]>=4.18.0->jupyter-events>=0.11.0->jupyter-server<3,>=2.4.0->jupyterlab->jupyter>=1.0.0->-r ../requirements.txt (line 42)) (1.3.0)\n",
      "Requirement already satisfied: types-python-dateutil>=2.8.10 in /home/elizabeth/Documentos/Especializacion EAFIT/Aprendizaje de Maquina Aplicado/Proyecto/data_exploration/venv/lib/python3.12/site-packages (from arrow>=0.15.0->isoduration->jsonschema[format-nongpl]>=4.18.0->jupyter-events>=0.11.0->jupyter-server<3,>=2.4.0->jupyterlab->jupyter>=1.0.0->-r ../requirements.txt (line 42)) (2.9.0.20250822)\n",
      "Note: you may need to restart the kernel to use updated packages.\n"
     ]
    }
   ],
   "source": [
    "pip install -r ../requirements.txt"
   ]
  },
  {
   "cell_type": "markdown",
   "metadata": {},
   "source": [
    "### Validación de librerias\n",
    "\n",
    "Se verifica que las librerias que vamos a usar estén completamente descargadas\n",
    "\n",
    "\n",
    "- **NumPy**\n",
    "- **Pandas**\n",
    "- **Matplotlib/Seaborn**\n",
    "- **Scikit-learn**"
   ]
  },
  {
   "cell_type": "code",
   "execution_count": null,
   "metadata": {},
   "outputs": [
    {
     "name": "stdout",
     "output_type": "stream",
     "text": [
      "✅ Librerías importadas correctamente\n"
     ]
    }
   ],
   "source": [
    "# Importar librerías necesarias\n",
    "import numpy as np\n",
    "import pandas as pd\n",
    "import matplotlib.pyplot as plt\n",
    "import seaborn as sns\n",
    "from pathlib import Path\n",
    "from scipy import stats\n",
    "\n",
    "# Configuración de visualización\n",
    "plt.style.use('seaborn-v0_8-darkgrid')\n",
    "plt.rcParams['figure.figsize'] = (12, 6)\n",
    "plt.rcParams['font.size'] = 12\n",
    "sns.set_palette(\"husl\")\n",
    "\n",
    "# Configuración de pandas\n",
    "pd.set_option('display.max_columns', None)\n",
    "pd.set_option('display.max_rows', 100)\n",
    "pd.set_option('display.float_format', '{:.2f}'.format)\n",
    "\n",
    "print(\"✅ Librerías importadas correctamente\")"
   ]
  },
  {
   "cell_type": "markdown",
   "metadata": {},
   "source": [
    "#### Verificar versiones de librerías críticas\n",
    "Se valida que tengamos la versión mínima de las librerias"
   ]
  },
  {
   "cell_type": "code",
   "execution_count": null,
   "metadata": {},
   "outputs": [
    {
     "name": "stdout",
     "output_type": "stream",
     "text": [
      "✅ scikit-learn 1.7.2 instalado\n"
     ]
    }
   ],
   "source": [
    "\n",
    "from packaging import version\n",
    "import sklearn\n",
    "\n",
    "assert version.parse(sklearn.__version__) >= version.parse(\"1.0.1\"), \"Requiere scikit-learn >= 1.0.1\"\n",
    "print(f\"✅ scikit-learn {sklearn.__version__} instalado\")"
   ]
  },
  {
   "cell_type": "code",
   "execution_count": null,
   "metadata": {},
   "outputs": [],
   "source": [
    "#importar funciones utilitarias implementads en el directorio src\n",
    "import sys\n",
    "sys.path.append('../src')"
   ]
  },
  {
   "cell_type": "markdown",
   "metadata": {},
   "source": [
    "### Descarga y Carga de Datos"
   ]
  },
  {
   "cell_type": "code",
   "execution_count": null,
   "metadata": {},
   "outputs": [
    {
     "name": "stdout",
     "output_type": "stream",
     "text": [
      "📁 Cargando datos desde caché local: Crop_recommendation.csv\n",
      "    N   P   K  temperature  humidity   ph  rainfall label\n",
      "0  90  42  43        20.88     82.00 6.50    202.94  rice\n",
      "1  85  58  41        21.77     80.32 7.04    226.66  rice\n",
      "2  60  55  44        23.00     82.32 7.84    263.96  rice\n",
      "3  74  35  40        26.49     80.16 6.98    242.86  rice\n",
      "4  78  42  42        20.13     81.60 7.63    262.72  rice\n"
     ]
    }
   ],
   "source": [
    "# Función para descargar datos\n",
    "import importlib\n",
    "import data_loader\n",
    "importlib.reload(data_loader)\n",
    "\n",
    "from data_loader import load_crop_data\n",
    "\n",
    "crop_data = load_crop_data()\n",
    "print(crop_data.head())"
   ]
  },
  {
   "cell_type": "code",
   "execution_count": null,
   "metadata": {},
   "outputs": [
    {
     "name": "stdout",
     "output_type": "stream",
     "text": [
      "================================================================================\n",
      "                        INFORMACIÓN GENERAL DEL DATASET                         \n",
      "================================================================================\n"
     ]
    },
    {
     "data": {
      "text/html": [
       "<style type=\"text/css\">\n",
       "#T_2ab58_row0_col3 {\n",
       "  background-color: #5f7fe8;\n",
       "  color: #f1f1f1;\n",
       "}\n",
       "#T_2ab58_row0_col4 {\n",
       "  background-color: #e36b54;\n",
       "  color: #f1f1f1;\n",
       "}\n",
       "#T_2ab58_row0_col5, #T_2ab58_row0_col6, #T_2ab58_row3_col4, #T_2ab58_row4_col3 {\n",
       "  background-color: #3b4cc0;\n",
       "  color: #f1f1f1;\n",
       "}\n",
       "#T_2ab58_row1_col3 {\n",
       "  background-color: #90b2fe;\n",
       "  color: #000000;\n",
       "}\n",
       "#T_2ab58_row1_col4 {\n",
       "  background-color: #516ddb;\n",
       "  color: #f1f1f1;\n",
       "}\n",
       "#T_2ab58_row1_col5 {\n",
       "  background-color: #c0d4f5;\n",
       "  color: #000000;\n",
       "}\n",
       "#T_2ab58_row1_col6 {\n",
       "  background-color: #bcd2f7;\n",
       "  color: #000000;\n",
       "}\n",
       "#T_2ab58_row2_col3 {\n",
       "  background-color: #cfdaea;\n",
       "  color: #000000;\n",
       "}\n",
       "#T_2ab58_row2_col4, #T_2ab58_row2_col5, #T_2ab58_row2_col6, #T_2ab58_row3_col3 {\n",
       "  background-color: #b40426;\n",
       "  color: #f1f1f1;\n",
       "}\n",
       "#T_2ab58_row3_col5 {\n",
       "  background-color: #b2ccfb;\n",
       "  color: #000000;\n",
       "}\n",
       "#T_2ab58_row3_col6 {\n",
       "  background-color: #f7bca1;\n",
       "  color: #000000;\n",
       "}\n",
       "#T_2ab58_row4_col4 {\n",
       "  background-color: #f7b79b;\n",
       "  color: #000000;\n",
       "}\n",
       "#T_2ab58_row4_col5 {\n",
       "  background-color: #e57058;\n",
       "  color: #f1f1f1;\n",
       "}\n",
       "#T_2ab58_row4_col6 {\n",
       "  background-color: #bb1b2c;\n",
       "  color: #f1f1f1;\n",
       "}\n",
       "</style>\n",
       "<table id=\"T_2ab58\">\n",
       "  <thead>\n",
       "    <tr>\n",
       "      <th class=\"blank level0\" >&nbsp;</th>\n",
       "      <th id=\"T_2ab58_level0_col0\" class=\"col_heading level0 col0\" >N</th>\n",
       "      <th id=\"T_2ab58_level0_col1\" class=\"col_heading level0 col1\" >P</th>\n",
       "      <th id=\"T_2ab58_level0_col2\" class=\"col_heading level0 col2\" >K</th>\n",
       "      <th id=\"T_2ab58_level0_col3\" class=\"col_heading level0 col3\" >temperature</th>\n",
       "      <th id=\"T_2ab58_level0_col4\" class=\"col_heading level0 col4\" >humidity</th>\n",
       "      <th id=\"T_2ab58_level0_col5\" class=\"col_heading level0 col5\" >ph</th>\n",
       "      <th id=\"T_2ab58_level0_col6\" class=\"col_heading level0 col6\" >rainfall</th>\n",
       "      <th id=\"T_2ab58_level0_col7\" class=\"col_heading level0 col7\" >label</th>\n",
       "    </tr>\n",
       "  </thead>\n",
       "  <tbody>\n",
       "    <tr>\n",
       "      <th id=\"T_2ab58_level0_row0\" class=\"row_heading level0 row0\" >0</th>\n",
       "      <td id=\"T_2ab58_row0_col0\" class=\"data row0 col0\" >90</td>\n",
       "      <td id=\"T_2ab58_row0_col1\" class=\"data row0 col1\" >42</td>\n",
       "      <td id=\"T_2ab58_row0_col2\" class=\"data row0 col2\" >43</td>\n",
       "      <td id=\"T_2ab58_row0_col3\" class=\"data row0 col3\" >20.879744</td>\n",
       "      <td id=\"T_2ab58_row0_col4\" class=\"data row0 col4\" >82.002744</td>\n",
       "      <td id=\"T_2ab58_row0_col5\" class=\"data row0 col5\" >6.502985</td>\n",
       "      <td id=\"T_2ab58_row0_col6\" class=\"data row0 col6\" >202.935536</td>\n",
       "      <td id=\"T_2ab58_row0_col7\" class=\"data row0 col7\" >rice</td>\n",
       "    </tr>\n",
       "    <tr>\n",
       "      <th id=\"T_2ab58_level0_row1\" class=\"row_heading level0 row1\" >1</th>\n",
       "      <td id=\"T_2ab58_row1_col0\" class=\"data row1 col0\" >85</td>\n",
       "      <td id=\"T_2ab58_row1_col1\" class=\"data row1 col1\" >58</td>\n",
       "      <td id=\"T_2ab58_row1_col2\" class=\"data row1 col2\" >41</td>\n",
       "      <td id=\"T_2ab58_row1_col3\" class=\"data row1 col3\" >21.770462</td>\n",
       "      <td id=\"T_2ab58_row1_col4\" class=\"data row1 col4\" >80.319644</td>\n",
       "      <td id=\"T_2ab58_row1_col5\" class=\"data row1 col5\" >7.038096</td>\n",
       "      <td id=\"T_2ab58_row1_col6\" class=\"data row1 col6\" >226.655537</td>\n",
       "      <td id=\"T_2ab58_row1_col7\" class=\"data row1 col7\" >rice</td>\n",
       "    </tr>\n",
       "    <tr>\n",
       "      <th id=\"T_2ab58_level0_row2\" class=\"row_heading level0 row2\" >2</th>\n",
       "      <td id=\"T_2ab58_row2_col0\" class=\"data row2 col0\" >60</td>\n",
       "      <td id=\"T_2ab58_row2_col1\" class=\"data row2 col1\" >55</td>\n",
       "      <td id=\"T_2ab58_row2_col2\" class=\"data row2 col2\" >44</td>\n",
       "      <td id=\"T_2ab58_row2_col3\" class=\"data row2 col3\" >23.004459</td>\n",
       "      <td id=\"T_2ab58_row2_col4\" class=\"data row2 col4\" >82.320763</td>\n",
       "      <td id=\"T_2ab58_row2_col5\" class=\"data row2 col5\" >7.840207</td>\n",
       "      <td id=\"T_2ab58_row2_col6\" class=\"data row2 col6\" >263.964248</td>\n",
       "      <td id=\"T_2ab58_row2_col7\" class=\"data row2 col7\" >rice</td>\n",
       "    </tr>\n",
       "    <tr>\n",
       "      <th id=\"T_2ab58_level0_row3\" class=\"row_heading level0 row3\" >3</th>\n",
       "      <td id=\"T_2ab58_row3_col0\" class=\"data row3 col0\" >74</td>\n",
       "      <td id=\"T_2ab58_row3_col1\" class=\"data row3 col1\" >35</td>\n",
       "      <td id=\"T_2ab58_row3_col2\" class=\"data row3 col2\" >40</td>\n",
       "      <td id=\"T_2ab58_row3_col3\" class=\"data row3 col3\" >26.491096</td>\n",
       "      <td id=\"T_2ab58_row3_col4\" class=\"data row3 col4\" >80.158363</td>\n",
       "      <td id=\"T_2ab58_row3_col5\" class=\"data row3 col5\" >6.980401</td>\n",
       "      <td id=\"T_2ab58_row3_col6\" class=\"data row3 col6\" >242.864034</td>\n",
       "      <td id=\"T_2ab58_row3_col7\" class=\"data row3 col7\" >rice</td>\n",
       "    </tr>\n",
       "    <tr>\n",
       "      <th id=\"T_2ab58_level0_row4\" class=\"row_heading level0 row4\" >4</th>\n",
       "      <td id=\"T_2ab58_row4_col0\" class=\"data row4 col0\" >78</td>\n",
       "      <td id=\"T_2ab58_row4_col1\" class=\"data row4 col1\" >42</td>\n",
       "      <td id=\"T_2ab58_row4_col2\" class=\"data row4 col2\" >42</td>\n",
       "      <td id=\"T_2ab58_row4_col3\" class=\"data row4 col3\" >20.130175</td>\n",
       "      <td id=\"T_2ab58_row4_col4\" class=\"data row4 col4\" >81.604873</td>\n",
       "      <td id=\"T_2ab58_row4_col5\" class=\"data row4 col5\" >7.628473</td>\n",
       "      <td id=\"T_2ab58_row4_col6\" class=\"data row4 col6\" >262.717340</td>\n",
       "      <td id=\"T_2ab58_row4_col7\" class=\"data row4 col7\" >rice</td>\n",
       "    </tr>\n",
       "  </tbody>\n",
       "</table>\n"
      ],
      "text/plain": [
       "<pandas.io.formats.style.Styler at 0x7ad76333e630>"
      ]
     },
     "metadata": {},
     "output_type": "display_data"
    },
    {
     "name": "stdout",
     "output_type": "stream",
     "text": [
      "\n",
      "================================================================================\n",
      "                              ESTRUCTURA DE DATOS                               \n",
      "================================================================================\n",
      "<class 'pandas.core.frame.DataFrame'>\n",
      "RangeIndex: 2200 entries, 0 to 2199\n",
      "Data columns (total 8 columns):\n",
      " #   Column       Non-Null Count  Dtype  \n",
      "---  ------       --------------  -----  \n",
      " 0   N            2200 non-null   int64  \n",
      " 1   P            2200 non-null   int64  \n",
      " 2   K            2200 non-null   int64  \n",
      " 3   temperature  2200 non-null   float64\n",
      " 4   humidity     2200 non-null   float64\n",
      " 5   ph           2200 non-null   float64\n",
      " 6   rainfall     2200 non-null   float64\n",
      " 7   label        2200 non-null   object \n",
      "dtypes: float64(4), int64(3), object(1)\n",
      "memory usage: 137.6+ KB\n",
      "\n",
      "================================================================================\n",
      "                           ESTADÍSTICAS DESCRIPTIVAS                            \n",
      "================================================================================\n"
     ]
    },
    {
     "data": {
      "text/html": [
       "<div>\n",
       "<style scoped>\n",
       "    .dataframe tbody tr th:only-of-type {\n",
       "        vertical-align: middle;\n",
       "    }\n",
       "\n",
       "    .dataframe tbody tr th {\n",
       "        vertical-align: top;\n",
       "    }\n",
       "\n",
       "    .dataframe thead th {\n",
       "        text-align: right;\n",
       "    }\n",
       "</style>\n",
       "<table border=\"1\" class=\"dataframe\">\n",
       "  <thead>\n",
       "    <tr style=\"text-align: right;\">\n",
       "      <th></th>\n",
       "      <th>count</th>\n",
       "      <th>mean</th>\n",
       "      <th>std</th>\n",
       "      <th>min</th>\n",
       "      <th>25%</th>\n",
       "      <th>50%</th>\n",
       "      <th>75%</th>\n",
       "      <th>max</th>\n",
       "    </tr>\n",
       "  </thead>\n",
       "  <tbody>\n",
       "    <tr>\n",
       "      <th>N</th>\n",
       "      <td>2200.00</td>\n",
       "      <td>50.55</td>\n",
       "      <td>36.92</td>\n",
       "      <td>0.00</td>\n",
       "      <td>21.00</td>\n",
       "      <td>37.00</td>\n",
       "      <td>84.25</td>\n",
       "      <td>140.00</td>\n",
       "    </tr>\n",
       "    <tr>\n",
       "      <th>P</th>\n",
       "      <td>2200.00</td>\n",
       "      <td>53.36</td>\n",
       "      <td>32.99</td>\n",
       "      <td>5.00</td>\n",
       "      <td>28.00</td>\n",
       "      <td>51.00</td>\n",
       "      <td>68.00</td>\n",
       "      <td>145.00</td>\n",
       "    </tr>\n",
       "    <tr>\n",
       "      <th>K</th>\n",
       "      <td>2200.00</td>\n",
       "      <td>48.15</td>\n",
       "      <td>50.65</td>\n",
       "      <td>5.00</td>\n",
       "      <td>20.00</td>\n",
       "      <td>32.00</td>\n",
       "      <td>49.00</td>\n",
       "      <td>205.00</td>\n",
       "    </tr>\n",
       "    <tr>\n",
       "      <th>temperature</th>\n",
       "      <td>2200.00</td>\n",
       "      <td>25.62</td>\n",
       "      <td>5.06</td>\n",
       "      <td>8.83</td>\n",
       "      <td>22.77</td>\n",
       "      <td>25.60</td>\n",
       "      <td>28.56</td>\n",
       "      <td>43.68</td>\n",
       "    </tr>\n",
       "    <tr>\n",
       "      <th>humidity</th>\n",
       "      <td>2200.00</td>\n",
       "      <td>71.48</td>\n",
       "      <td>22.26</td>\n",
       "      <td>14.26</td>\n",
       "      <td>60.26</td>\n",
       "      <td>80.47</td>\n",
       "      <td>89.95</td>\n",
       "      <td>99.98</td>\n",
       "    </tr>\n",
       "    <tr>\n",
       "      <th>ph</th>\n",
       "      <td>2200.00</td>\n",
       "      <td>6.47</td>\n",
       "      <td>0.77</td>\n",
       "      <td>3.50</td>\n",
       "      <td>5.97</td>\n",
       "      <td>6.43</td>\n",
       "      <td>6.92</td>\n",
       "      <td>9.94</td>\n",
       "    </tr>\n",
       "    <tr>\n",
       "      <th>rainfall</th>\n",
       "      <td>2200.00</td>\n",
       "      <td>103.46</td>\n",
       "      <td>54.96</td>\n",
       "      <td>20.21</td>\n",
       "      <td>64.55</td>\n",
       "      <td>94.87</td>\n",
       "      <td>124.27</td>\n",
       "      <td>298.56</td>\n",
       "    </tr>\n",
       "  </tbody>\n",
       "</table>\n",
       "</div>"
      ],
      "text/plain": [
       "              count   mean   std   min   25%   50%    75%    max\n",
       "N           2200.00  50.55 36.92  0.00 21.00 37.00  84.25 140.00\n",
       "P           2200.00  53.36 32.99  5.00 28.00 51.00  68.00 145.00\n",
       "K           2200.00  48.15 50.65  5.00 20.00 32.00  49.00 205.00\n",
       "temperature 2200.00  25.62  5.06  8.83 22.77 25.60  28.56  43.68\n",
       "humidity    2200.00  71.48 22.26 14.26 60.26 80.47  89.95  99.98\n",
       "ph          2200.00   6.47  0.77  3.50  5.97  6.43   6.92   9.94\n",
       "rainfall    2200.00 103.46 54.96 20.21 64.55 94.87 124.27 298.56"
      ]
     },
     "metadata": {},
     "output_type": "display_data"
    }
   ],
   "source": [
    "# Vista general del dataset\n",
    "print(\"=\" * 80)\n",
    "print(\"INFORMACIÓN GENERAL DEL DATASET\".center(80))\n",
    "print(\"=\" * 80)\n",
    "\n",
    "# Mostrar primeras filas con formato mejorado\n",
    "display(crop_data.head().style.background_gradient(cmap='coolwarm', subset=['temperature', 'humidity', 'ph', 'rainfall']))\n",
    "\n",
    "# Información detallada\n",
    "print(\"\\n\" + \"=\" * 80)\n",
    "print(\"ESTRUCTURA DE DATOS\".center(80))\n",
    "print(\"=\" * 80)\n",
    "crop_data.info()\n",
    "\n",
    "# Estadísticas descriptivas\n",
    "print(\"\\n\" + \"=\" * 80)\n",
    "print(\"ESTADÍSTICAS DESCRIPTIVAS\".center(80))\n",
    "print(\"=\" * 80)\n",
    "display(crop_data.describe().round(2).T)"
   ]
  },
  {
   "cell_type": "markdown",
   "metadata": {},
   "source": [
    "## 2. Preparación de los Datos\n",
    "\n",
    "### Limpieza (valores faltantes, outliers)\n",
    "\n",
    "### Transformación (normalización, encoding)\n",
    "\n",
    "### Creación de features (ingeniería de características)"
   ]
  },
  {
   "cell_type": "markdown",
   "metadata": {},
   "source": [
    "### Selección de Caracteristicas relevantes"
   ]
  },
  {
   "cell_type": "code",
   "execution_count": null,
   "metadata": {},
   "outputs": [
    {
     "data": {
      "application/vnd.plotly.v1+json": {
       "config": {
        "plotlyServerURL": "https://plot.ly"
       },
       "data": [
        {
         "coloraxis": "coloraxis",
         "hovertemplate": "Características: %{x}<br>Cultivo: %{y}<br>Media: %{z}<extra></extra>",
         "name": "0",
         "texttemplate": "%{z}",
         "type": "heatmap",
         "x": [
          "N",
          "P",
          "K",
          "temperature",
          "humidity",
          "ph",
          "rainfall"
         ],
         "xaxis": "x",
         "y": [
          "apple",
          "banana",
          "blackgram",
          "chickpea",
          "coconut",
          "coffee",
          "cotton",
          "grapes",
          "jute",
          "kidneybeans",
          "lentil",
          "maize",
          "mango",
          "mothbeans",
          "mungbean",
          "muskmelon",
          "orange",
          "papaya",
          "pigeonpeas",
          "pomegranate",
          "rice",
          "watermelon"
         ],
         "yaxis": "y",
         "z": {
          "bdata": "zczMzMzMNEDXo3A9CsdgQBSuR+F6/GhAc1omcYWhNkDm7yAlVhVXQK+1QY/5txdATw5V5+cpXEAfhetRuA5ZQHE9CtejgFRAZmZmZmYGSUByK5DadWA7QCZy+XrrFlRAjY2fsYHvF0BmamZyIChaQMP1KFyPAkRArkfhehTeUEA9CtejcD0zQE/GCMos+T1AeJ7rSJRHUEA2c6+dKokcQBQk2O6V+FBA7FG4HoULREDD9Shcj/JQQHsUrkfh+lNAkNR94nLfMkAI+xDCRdwwQBeJPCgLWR1AiEOPSMYDVEB7FK5H4fo1QK5H4XoU7jBA16NwPQqXPkA36oKx7mg7QJoInYwItldAPP7p5v/nF0CzA58A+fVlQM3MzMzMTFlAPQrXo3C9PEBxPQrXo/A9QL0jV7BcijlA5CqiH1dvTUA2JYSSRikbQKHCcRYfwmNA4XoUrkdxXUAfhetRuB5HQI/C9ShcjzNASAE5WCz9N0CyxW97+/VTQFjxuGeUphtApfLYiXkZVECuR+F6FC43QClcj8L1kGBA7FG4HoUDaUAqHEzBfdk3QD4HS7oDeFRAeF00JY8aGECPB1g0KGdRQJqZmZmZmVNArkfhehRuR0AfhetRuP5DQC8YQB5Y9ThAIfz/iPPoU0BXISo+Xe4aQAUv8Jhe2WVAAAAAAADANEDD9Shcj+JQQM3MzMzMDDRAZMaeMHYdNECznZuo+Jo1QPZZFn1l/xZAjLqfot16WkCF61G4HsUyQNejcD0KF1FAKVyPwvVoM0ADHh1CUYI4QK6emJeBM1BAnPajsTO2G0CITZQfGddGQHE9CtejcFNAuB6F61E4SEAK16NwPcozQMnIEd6iYzZAoyk5audFUEDhF7wDE/sYQE9BbFMWMVVAUrgehesRNECuR+F6FC47QOxRuB6F6z1A6Dbs9XE1P0BK4faSChRJQKxV/AfEEBdALj1FxhatV0BxPQrXo3A1QOF6FK5HAUhAexSuR+E6NECh9RBP5jE8QHrC85OIlEpA0r55TB9TG0AI+wQGaJlJQD0K16Nw/TRApHA9CtejR0AfhetRuN4zQDMtTSyZhjxAIME5lf9fVUDOZ9r3VOUaQLhLwzGpM0hAFK5H4XoUWUC4HoXrUbgxQArXo3A9CklAFh5prb6pPEB9xKJ38BVXQBtCRLJqbxlAE0fXsqCwOEAUrkfhepQzQM3MzMzMjDBAhetRuB4FJEA0Cg6WBsQ2QOwSTLPkCldAVBxkS10RHEB4wTPjZZ5bQHE9Ctej8EhAZmZmZmaGTUCF61G4HgVJQO8INWen3EBAFBiSGtEZV0DUJVurPPcaQAfqhkEX1GFAexSuR+G6NEAfhetRuO5QQArXo3A9SjRAD6YVIeS9O0CtkcmX4wdIQNoCAC48LRdAGdrdXKSuYkAfhetRuN4yQAAAAAAAwDJAexSuR+EaREDdNovLfNY1QE3bC0EIiFZAzcG40ni3GUDUOw8A0uFaQClcj8L1+FNACtejcD3KR0CPwvUoXO9DQEktZBN4sDdAE8546HWRVEAI9j+mrrMZQOpivK7LhW1AexSuR+HaWEAAAAAAAAAxQFyPwvUoHElAIejDDn6XOUBNRryWQ0pVQAE9nU6t+xlAquuH0qJkSUA=",
          "dtype": "f8",
          "shape": "22, 7"
         }
        }
       ],
       "layout": {
        "coloraxis": {
         "colorbar": {
          "title": {
           "text": "Media"
          }
         },
         "colorscale": [
          [
           0,
           "#0d0887"
          ],
          [
           0.1111111111111111,
           "#46039f"
          ],
          [
           0.2222222222222222,
           "#7201a8"
          ],
          [
           0.3333333333333333,
           "#9c179e"
          ],
          [
           0.4444444444444444,
           "#bd3786"
          ],
          [
           0.5555555555555556,
           "#d8576b"
          ],
          [
           0.6666666666666666,
           "#ed7953"
          ],
          [
           0.7777777777777778,
           "#fb9f3a"
          ],
          [
           0.8888888888888888,
           "#fdca26"
          ],
          [
           1,
           "#f0f921"
          ]
         ]
        },
        "height": 1200,
        "margin": {
         "b": 100,
         "l": 100,
         "r": 100,
         "t": 100
        },
        "template": {
         "data": {
          "bar": [
           {
            "error_x": {
             "color": "#2a3f5f"
            },
            "error_y": {
             "color": "#2a3f5f"
            },
            "marker": {
             "line": {
              "color": "#E5ECF6",
              "width": 0.5
             },
             "pattern": {
              "fillmode": "overlay",
              "size": 10,
              "solidity": 0.2
             }
            },
            "type": "bar"
           }
          ],
          "barpolar": [
           {
            "marker": {
             "line": {
              "color": "#E5ECF6",
              "width": 0.5
             },
             "pattern": {
              "fillmode": "overlay",
              "size": 10,
              "solidity": 0.2
             }
            },
            "type": "barpolar"
           }
          ],
          "carpet": [
           {
            "aaxis": {
             "endlinecolor": "#2a3f5f",
             "gridcolor": "white",
             "linecolor": "white",
             "minorgridcolor": "white",
             "startlinecolor": "#2a3f5f"
            },
            "baxis": {
             "endlinecolor": "#2a3f5f",
             "gridcolor": "white",
             "linecolor": "white",
             "minorgridcolor": "white",
             "startlinecolor": "#2a3f5f"
            },
            "type": "carpet"
           }
          ],
          "choropleth": [
           {
            "colorbar": {
             "outlinewidth": 0,
             "ticks": ""
            },
            "type": "choropleth"
           }
          ],
          "contour": [
           {
            "colorbar": {
             "outlinewidth": 0,
             "ticks": ""
            },
            "colorscale": [
             [
              0,
              "#0d0887"
             ],
             [
              0.1111111111111111,
              "#46039f"
             ],
             [
              0.2222222222222222,
              "#7201a8"
             ],
             [
              0.3333333333333333,
              "#9c179e"
             ],
             [
              0.4444444444444444,
              "#bd3786"
             ],
             [
              0.5555555555555556,
              "#d8576b"
             ],
             [
              0.6666666666666666,
              "#ed7953"
             ],
             [
              0.7777777777777778,
              "#fb9f3a"
             ],
             [
              0.8888888888888888,
              "#fdca26"
             ],
             [
              1,
              "#f0f921"
             ]
            ],
            "type": "contour"
           }
          ],
          "contourcarpet": [
           {
            "colorbar": {
             "outlinewidth": 0,
             "ticks": ""
            },
            "type": "contourcarpet"
           }
          ],
          "heatmap": [
           {
            "colorbar": {
             "outlinewidth": 0,
             "ticks": ""
            },
            "colorscale": [
             [
              0,
              "#0d0887"
             ],
             [
              0.1111111111111111,
              "#46039f"
             ],
             [
              0.2222222222222222,
              "#7201a8"
             ],
             [
              0.3333333333333333,
              "#9c179e"
             ],
             [
              0.4444444444444444,
              "#bd3786"
             ],
             [
              0.5555555555555556,
              "#d8576b"
             ],
             [
              0.6666666666666666,
              "#ed7953"
             ],
             [
              0.7777777777777778,
              "#fb9f3a"
             ],
             [
              0.8888888888888888,
              "#fdca26"
             ],
             [
              1,
              "#f0f921"
             ]
            ],
            "type": "heatmap"
           }
          ],
          "histogram": [
           {
            "marker": {
             "pattern": {
              "fillmode": "overlay",
              "size": 10,
              "solidity": 0.2
             }
            },
            "type": "histogram"
           }
          ],
          "histogram2d": [
           {
            "colorbar": {
             "outlinewidth": 0,
             "ticks": ""
            },
            "colorscale": [
             [
              0,
              "#0d0887"
             ],
             [
              0.1111111111111111,
              "#46039f"
             ],
             [
              0.2222222222222222,
              "#7201a8"
             ],
             [
              0.3333333333333333,
              "#9c179e"
             ],
             [
              0.4444444444444444,
              "#bd3786"
             ],
             [
              0.5555555555555556,
              "#d8576b"
             ],
             [
              0.6666666666666666,
              "#ed7953"
             ],
             [
              0.7777777777777778,
              "#fb9f3a"
             ],
             [
              0.8888888888888888,
              "#fdca26"
             ],
             [
              1,
              "#f0f921"
             ]
            ],
            "type": "histogram2d"
           }
          ],
          "histogram2dcontour": [
           {
            "colorbar": {
             "outlinewidth": 0,
             "ticks": ""
            },
            "colorscale": [
             [
              0,
              "#0d0887"
             ],
             [
              0.1111111111111111,
              "#46039f"
             ],
             [
              0.2222222222222222,
              "#7201a8"
             ],
             [
              0.3333333333333333,
              "#9c179e"
             ],
             [
              0.4444444444444444,
              "#bd3786"
             ],
             [
              0.5555555555555556,
              "#d8576b"
             ],
             [
              0.6666666666666666,
              "#ed7953"
             ],
             [
              0.7777777777777778,
              "#fb9f3a"
             ],
             [
              0.8888888888888888,
              "#fdca26"
             ],
             [
              1,
              "#f0f921"
             ]
            ],
            "type": "histogram2dcontour"
           }
          ],
          "mesh3d": [
           {
            "colorbar": {
             "outlinewidth": 0,
             "ticks": ""
            },
            "type": "mesh3d"
           }
          ],
          "parcoords": [
           {
            "line": {
             "colorbar": {
              "outlinewidth": 0,
              "ticks": ""
             }
            },
            "type": "parcoords"
           }
          ],
          "pie": [
           {
            "automargin": true,
            "type": "pie"
           }
          ],
          "scatter": [
           {
            "fillpattern": {
             "fillmode": "overlay",
             "size": 10,
             "solidity": 0.2
            },
            "type": "scatter"
           }
          ],
          "scatter3d": [
           {
            "line": {
             "colorbar": {
              "outlinewidth": 0,
              "ticks": ""
             }
            },
            "marker": {
             "colorbar": {
              "outlinewidth": 0,
              "ticks": ""
             }
            },
            "type": "scatter3d"
           }
          ],
          "scattercarpet": [
           {
            "marker": {
             "colorbar": {
              "outlinewidth": 0,
              "ticks": ""
             }
            },
            "type": "scattercarpet"
           }
          ],
          "scattergeo": [
           {
            "marker": {
             "colorbar": {
              "outlinewidth": 0,
              "ticks": ""
             }
            },
            "type": "scattergeo"
           }
          ],
          "scattergl": [
           {
            "marker": {
             "colorbar": {
              "outlinewidth": 0,
              "ticks": ""
             }
            },
            "type": "scattergl"
           }
          ],
          "scattermap": [
           {
            "marker": {
             "colorbar": {
              "outlinewidth": 0,
              "ticks": ""
             }
            },
            "type": "scattermap"
           }
          ],
          "scattermapbox": [
           {
            "marker": {
             "colorbar": {
              "outlinewidth": 0,
              "ticks": ""
             }
            },
            "type": "scattermapbox"
           }
          ],
          "scatterpolar": [
           {
            "marker": {
             "colorbar": {
              "outlinewidth": 0,
              "ticks": ""
             }
            },
            "type": "scatterpolar"
           }
          ],
          "scatterpolargl": [
           {
            "marker": {
             "colorbar": {
              "outlinewidth": 0,
              "ticks": ""
             }
            },
            "type": "scatterpolargl"
           }
          ],
          "scatterternary": [
           {
            "marker": {
             "colorbar": {
              "outlinewidth": 0,
              "ticks": ""
             }
            },
            "type": "scatterternary"
           }
          ],
          "surface": [
           {
            "colorbar": {
             "outlinewidth": 0,
             "ticks": ""
            },
            "colorscale": [
             [
              0,
              "#0d0887"
             ],
             [
              0.1111111111111111,
              "#46039f"
             ],
             [
              0.2222222222222222,
              "#7201a8"
             ],
             [
              0.3333333333333333,
              "#9c179e"
             ],
             [
              0.4444444444444444,
              "#bd3786"
             ],
             [
              0.5555555555555556,
              "#d8576b"
             ],
             [
              0.6666666666666666,
              "#ed7953"
             ],
             [
              0.7777777777777778,
              "#fb9f3a"
             ],
             [
              0.8888888888888888,
              "#fdca26"
             ],
             [
              1,
              "#f0f921"
             ]
            ],
            "type": "surface"
           }
          ],
          "table": [
           {
            "cells": {
             "fill": {
              "color": "#EBF0F8"
             },
             "line": {
              "color": "white"
             }
            },
            "header": {
             "fill": {
              "color": "#C8D4E3"
             },
             "line": {
              "color": "white"
             }
            },
            "type": "table"
           }
          ]
         },
         "layout": {
          "annotationdefaults": {
           "arrowcolor": "#2a3f5f",
           "arrowhead": 0,
           "arrowwidth": 1
          },
          "autotypenumbers": "strict",
          "coloraxis": {
           "colorbar": {
            "outlinewidth": 0,
            "ticks": ""
           }
          },
          "colorscale": {
           "diverging": [
            [
             0,
             "#8e0152"
            ],
            [
             0.1,
             "#c51b7d"
            ],
            [
             0.2,
             "#de77ae"
            ],
            [
             0.3,
             "#f1b6da"
            ],
            [
             0.4,
             "#fde0ef"
            ],
            [
             0.5,
             "#f7f7f7"
            ],
            [
             0.6,
             "#e6f5d0"
            ],
            [
             0.7,
             "#b8e186"
            ],
            [
             0.8,
             "#7fbc41"
            ],
            [
             0.9,
             "#4d9221"
            ],
            [
             1,
             "#276419"
            ]
           ],
           "sequential": [
            [
             0,
             "#0d0887"
            ],
            [
             0.1111111111111111,
             "#46039f"
            ],
            [
             0.2222222222222222,
             "#7201a8"
            ],
            [
             0.3333333333333333,
             "#9c179e"
            ],
            [
             0.4444444444444444,
             "#bd3786"
            ],
            [
             0.5555555555555556,
             "#d8576b"
            ],
            [
             0.6666666666666666,
             "#ed7953"
            ],
            [
             0.7777777777777778,
             "#fb9f3a"
            ],
            [
             0.8888888888888888,
             "#fdca26"
            ],
            [
             1,
             "#f0f921"
            ]
           ],
           "sequentialminus": [
            [
             0,
             "#0d0887"
            ],
            [
             0.1111111111111111,
             "#46039f"
            ],
            [
             0.2222222222222222,
             "#7201a8"
            ],
            [
             0.3333333333333333,
             "#9c179e"
            ],
            [
             0.4444444444444444,
             "#bd3786"
            ],
            [
             0.5555555555555556,
             "#d8576b"
            ],
            [
             0.6666666666666666,
             "#ed7953"
            ],
            [
             0.7777777777777778,
             "#fb9f3a"
            ],
            [
             0.8888888888888888,
             "#fdca26"
            ],
            [
             1,
             "#f0f921"
            ]
           ]
          },
          "colorway": [
           "#636efa",
           "#EF553B",
           "#00cc96",
           "#ab63fa",
           "#FFA15A",
           "#19d3f3",
           "#FF6692",
           "#B6E880",
           "#FF97FF",
           "#FECB52"
          ],
          "font": {
           "color": "#2a3f5f"
          },
          "geo": {
           "bgcolor": "white",
           "lakecolor": "white",
           "landcolor": "#E5ECF6",
           "showlakes": true,
           "showland": true,
           "subunitcolor": "white"
          },
          "hoverlabel": {
           "align": "left"
          },
          "hovermode": "closest",
          "mapbox": {
           "style": "light"
          },
          "paper_bgcolor": "white",
          "plot_bgcolor": "#E5ECF6",
          "polar": {
           "angularaxis": {
            "gridcolor": "white",
            "linecolor": "white",
            "ticks": ""
           },
           "bgcolor": "#E5ECF6",
           "radialaxis": {
            "gridcolor": "white",
            "linecolor": "white",
            "ticks": ""
           }
          },
          "scene": {
           "xaxis": {
            "backgroundcolor": "#E5ECF6",
            "gridcolor": "white",
            "gridwidth": 2,
            "linecolor": "white",
            "showbackground": true,
            "ticks": "",
            "zerolinecolor": "white"
           },
           "yaxis": {
            "backgroundcolor": "#E5ECF6",
            "gridcolor": "white",
            "gridwidth": 2,
            "linecolor": "white",
            "showbackground": true,
            "ticks": "",
            "zerolinecolor": "white"
           },
           "zaxis": {
            "backgroundcolor": "#E5ECF6",
            "gridcolor": "white",
            "gridwidth": 2,
            "linecolor": "white",
            "showbackground": true,
            "ticks": "",
            "zerolinecolor": "white"
           }
          },
          "shapedefaults": {
           "line": {
            "color": "#2a3f5f"
           }
          },
          "ternary": {
           "aaxis": {
            "gridcolor": "white",
            "linecolor": "white",
            "ticks": ""
           },
           "baxis": {
            "gridcolor": "white",
            "linecolor": "white",
            "ticks": ""
           },
           "bgcolor": "#E5ECF6",
           "caxis": {
            "gridcolor": "white",
            "linecolor": "white",
            "ticks": ""
           }
          },
          "title": {
           "x": 0.05
          },
          "xaxis": {
           "automargin": true,
           "gridcolor": "white",
           "linecolor": "white",
           "ticks": "",
           "title": {
            "standoff": 15
           },
           "zerolinecolor": "white",
           "zerolinewidth": 2
          },
          "yaxis": {
           "automargin": true,
           "gridcolor": "white",
           "linecolor": "white",
           "ticks": "",
           "title": {
            "standoff": 15
           },
           "zerolinecolor": "white",
           "zerolinewidth": 2
          }
         }
        },
        "title": {
         "font": {
          "color": "black",
          "family": "Arial",
          "size": 24
         },
         "text": "Heatmap de medias por clase de cultivo",
         "x": 0.5,
         "xanchor": "center"
        },
        "width": 900,
        "xaxis": {
         "anchor": "y",
         "domain": [
          0,
          1
         ],
         "title": {
          "text": "Características"
         }
        },
        "yaxis": {
         "anchor": "x",
         "autorange": "reversed",
         "domain": [
          0,
          1
         ],
         "title": {
          "text": "Cultivo"
         }
        }
       }
      }
     },
     "metadata": {},
     "output_type": "display_data"
    }
   ],
   "source": [
    "# Visualización avanzada con Plotly: Heatmap de medias por clase\n",
    "\n",
    "# Importar librerías\n",
    "import pandas as pd\n",
    "import plotly.express as px\n",
    "\n",
    "\n",
    "# Calcular la media de cada característica numérica por clase (label)\n",
    "mean_by_class = crop_data.groupby(\"label\")[[\"N\", \"P\", \"K\", \"temperature\", \"humidity\", \"ph\", \"rainfall\"]].mean()\n",
    "\n",
    "# Crear el heatmap\n",
    "fig = px.imshow(\n",
    "    mean_by_class,\n",
    "    labels=dict(x=\"Características\", y=\"Cultivo\", color=\"Media\"),\n",
    "    x=mean_by_class.columns,\n",
    "    y=mean_by_class.index,\n",
    "    title=\"Heatmap de medias por clase de cultivo\",\n",
    "    aspect=\"auto\",  # Ajusta la relación de aspecto\n",
    "    text_auto=True  # Activa los valores dentro de las celdas\n",
    ")\n",
    "\n",
    "# Ajustar tamaño del gráfico\n",
    "fig.update_layout(\n",
    "    width=900,   # ancho\n",
    "    height=1200, # alto\n",
    "    margin=dict(l=100, r=100, t=100, b=100),\n",
    "    title={\n",
    "        'text': \"Heatmap de medias por clase de cultivo\",\n",
    "        'x': 0.5,  # Centrado horizontal\n",
    "        'xanchor': 'center',\n",
    "        'font': {'size': 24, 'color': 'black', 'family': 'Arial'}\n",
    "    }\n",
    "\n",
    ")\n",
    "\n",
    "# Mostrar el gráfico\n",
    "fig.show()"
   ]
  },
  {
   "cell_type": "markdown",
   "metadata": {},
   "source": [
    "Conclusion: El heatmap no sirve para medir relevancia predictiva, porque muestra medias por clase, no la capacidad de cada caracteristica para separar clases. Sin embargo da pistas, segun podriamos intuir que:\n",
    "\n",
    "N, P, K: muestran variaciones fuertes entre cultivos → muy relevantes.\n",
    "temperature, humidity, rainfall: también varían bastante → relevantes.\n",
    "ph: suele ser más uniforme → menos relevante. "
   ]
  },
  {
   "cell_type": "code",
   "execution_count": null,
   "metadata": {},
   "outputs": [
    {
     "data": {
      "image/png": "[encoded data removed]",
      "text/plain": [
       "<Figure size 1000x600 with 1 Axes>"
      ]
     },
     "metadata": {},
     "output_type": "display_data"
    }
   ],
   "source": [
    "\n",
    "group_npk = crop_data.groupby(\"label\")[[\"N\", \"P\", \"K\"]].mean().reset_index()\n",
    "melted = group_npk.melt(id_vars=\"label\", value_vars=[\"N\", \"P\", \"K\"],var_name=\"Nutrient\", value_name=\"Mean Value\")\n",
    "\n",
    "plt.figure(figsize=(10,6))\n",
    "sns.barplot(x=\"label\", y=\"Mean Value\", hue=\"Nutrient\", data=melted, palette=\"Set1\")\n",
    "plt.title(\"Medias de N, P, K por Crops/Cultivos\")\n",
    "plt.ylabel(\"Valor medio\")\n",
    "plt.xlabel(\"Cultivo\")\n",
    "plt.xticks(rotation=45)\n",
    "plt.tight_layout()\n",
    "plt.show()"
   ]
  },
  {
   "cell_type": "markdown",
   "metadata": {},
   "source": [
    "Este gráfico muestra las medias de N, P y K por cultivo, y un que tampoco sirve para medir relevancia predictiva, puedemos sacar algunas conclusiones útiles:\n",
    "\n",
    "Diferencias claras entre cultivos\n",
    "Algunos cultivos requieren mucho más N (nitrógeno) que otros. Por ejemplo, el primer cultivo (apple) tiene una barra roja muy alta para N.\n",
    "Otros cultivos destacan por P (fósforo) o K (potasio), lo que indica necesidades específicas.\n",
    "\n",
    "Variables relevantes\n",
    "Si las barras para N, P y K varían significativamente entre cultivos, estas características son muy relevantes para predecir el tipo de cultivo.\n",
    "En este gráfico, N, P y K muestran diferencias marcadas, son fuertes discriminadores.\n",
    "\n",
    "Cultivos con perfiles únicos\n",
    "Algunos cultivos tienen un perfil muy distinto (por ejemplo, uno con N muy alto y P/K bajos), lo que facilita la clasificación.\n",
    "Otros cultivos con valores similares en N, P y K podrían ser más difíciles de diferenciar.\n",
    "\n",
    "Implicación para el modelo\n",
    "Variables con alta variabilidad entre clases (como N, P, K) son más útiles para modelos predictivos.\n",
    "Si una variable fuera casi igual en todos los cultivos, sería poco relevante."
   ]
  },
  {
   "cell_type": "markdown",
   "metadata": {},
   "source": [
    "Ahora vamos a usarlos metodos ANOVA F-values, Mutual Information, Árbol de Decisión, para ver segun ellos cuales son las caractericas relevantes. "
   ]
  },
  {
   "cell_type": "code",
   "execution_count": null,
   "metadata": {},
   "outputs": [
    {
     "data": {
      "image/png": "[encoded data removed]",
      "text/plain": [
       "<Figure size 1800x600 with 3 Axes>"
      ]
     },
     "metadata": {},
     "output_type": "display_data"
    },
    {
     "data": {
      "image/png": "[encoded data removed]",
      "text/plain": [
       "<Figure size 1000x600 with 1 Axes>"
      ]
     },
     "metadata": {},
     "output_type": "display_data"
    }
   ],
   "source": [
    "# ============================================\n",
    "# BLOQUE COMPLETO: ANÁLISIS DE RELEVANCIA DE CARACTERÍSTICAS\n",
    "# Métodos: ANOVA F-values, Mutual Information, Árbol de Decisión\n",
    "# ============================================\n",
    "\n",
    "import pandas as pd\n",
    "import matplotlib.pyplot as plt\n",
    "from sklearn.feature_selection import f_classif, mutual_info_classif\n",
    "from sklearn.tree import DecisionTreeClassifier\n",
    "from sklearn.model_selection import train_test_split\n",
    "\n",
    "\n",
    "# Separar características (X) y variable objetivo (y)\n",
    "X = crop_data.drop(columns=[\"label\"])\n",
    "y = crop_data[\"label\"]\n",
    "\n",
    "# ============================================\n",
    "# MÉTODO 1: ANOVA F-values (usando datos de entrenamiento)\n",
    "# ============================================\n",
    "f_values, _ = f_classif(X, y)\n",
    "f_scores = pd.Series(f_values, index=X.columns).sort_values(ascending=False)\n",
    "\n",
    "# ============================================\n",
    "# MÉTODO 2: Información Mutua (usando datos de entrenamiento)\n",
    "# ============================================\n",
    "mi_scores = mutual_info_classif(X, y, discrete_features=False, random_state=42)\n",
    "mi_series = pd.Series(mi_scores, index=X.columns).sort_values(ascending=False)\n",
    "\n",
    "# ============================================\n",
    "# MÉTODO 3: Importancia con Árbol de Decisión (entrenado en datos de entrenamiento)\n",
    "# ============================================\n",
    "tree = DecisionTreeClassifier(random_state=42)\n",
    "tree.fit(X, y)\n",
    "tree_importances = pd.Series(tree.feature_importances_, index=X.columns).sort_values(ascending=False)\n",
    "\n",
    "# ============================================\n",
    "# GRÁFICO COMPARATIVO\n",
    "# ============================================\n",
    "fig, axes = plt.subplots(1, 3, figsize=(18, 6))\n",
    "\n",
    "# ANOVA\n",
    "f_scores.plot(kind='bar', ax=axes[0], color='skyblue')\n",
    "axes[0].set_title(\"ANOVA F-values\")\n",
    "axes[0].set_ylabel(\"Valor F\")\n",
    "axes[0].tick_params(axis='x', rotation=45)\n",
    "\n",
    "# Información Mutua\n",
    "mi_series.plot(kind='bar', ax=axes[1], color='orange')\n",
    "axes[1].set_title(\"Información Mutua\")\n",
    "axes[1].set_ylabel(\"Score\")\n",
    "axes[1].tick_params(axis='x', rotation=45)\n",
    "\n",
    "# Árbol de Decisión\n",
    "tree_importances.plot(kind='bar', ax=axes[2], color='green')\n",
    "axes[2].set_title(\"Importancia (Árbol de Decisión)\")\n",
    "axes[2].set_ylabel(\"Importancia\")\n",
    "axes[2].tick_params(axis='x', rotation=45)\n",
    "\n",
    "# Título general\n",
    "plt.suptitle(\"Comparación de relevancia de características (70% train / 30% test)\", fontsize=16, fontweight='bold')\n",
    "plt.tight_layout(rect=[0, 0, 1, 0.95])\n",
    "plt.show()\n",
    "\n",
    "# ============================================\n",
    "# Normalización y ranking combinado\n",
    "# ============================================\n",
    "scaler = MinMaxScaler()\n",
    "normalized_df = pd.DataFrame({\n",
    "    \"ANOVA_F\": scaler.fit_transform(f_scores.values.reshape(-1, 1)).flatten(),\n",
    "    \"Mutual_Info\": scaler.fit_transform(mi_series.values.reshape(-1, 1)).flatten(),\n",
    "    \"DecisionTree_Importance\": scaler.fit_transform(tree_importances.values.reshape(-1, 1)).flatten()\n",
    "}, index=X.columns)\n",
    "\n",
    "# Calcular ranking combinado\n",
    "normalized_df[\"Combined_Score\"] = normalized_df.sum(axis=1)\n",
    "combined_ranking = normalized_df[\"Combined_Score\"].sort_values(ascending=False)\n",
    "\n",
    "# ============================================\n",
    "# Graficar ranking combinado\n",
    "# ============================================\n",
    "plt.figure(figsize=(10, 6))\n",
    "combined_ranking.plot(kind='bar', color='purple')\n",
    "plt.title(\"Ranking combinado de relevancia de características\", fontsize=16, fontweight='bold')\n",
    "plt.ylabel(\"Importancia normalizada combinada\")\n",
    "plt.xticks(rotation=45)\n",
    "plt.tight_layout()\n",
    "plt.show()\n"
   ]
  },
  {
   "cell_type": "markdown",
   "metadata": {},
   "source": [
    "1. ANOVA F-values\n",
    "\n",
    "    K (Potasio) tiene un valor F extremadamente alto, indica que esta variable discrimina fuertemente entre clases.\n",
    "    Humidity y P (Fósforo) también son relevantes, pero mucho menos que K.\n",
    "    ph y temperature son las menos relevantes según este método.\n",
    "\n",
    "2. Información Mutua\n",
    "\n",
    "    Humidity, K y rainfall son las más informativas (alta dependencia con el target).\n",
    "    ph sigue siendo la menos relevante.\n",
    "    Este método muestra que la relación no es solo lineal, por eso rainfall aparece más importante aquí que en ANOVA.\n",
    "\n",
    "3. Árbol de Decisión\n",
    "\n",
    "    Rainfall es la característica más usada para dividir nodos (≈ 0.40).\n",
    "    P y Humidity también son importantes.\n",
    "    K, que era dominante en ANOVA, aquí tiene menor peso → indica que su relevancia depende del criterio del modelo.\n",
    "\n",
    "4. Ranking combinado\n",
    "    \n",
    "    El modelo debería priorizar N, P y K como variables clave para la predicción.\n",
    "    \n",
    "    Variables como humidity, ph y rainfall podrían considerarse para reducción de dimensionalidad o menor peso en el modelo.\n"
   ]
  },
  {
   "cell_type": "markdown",
   "metadata": {},
   "source": [
    "### 3. Comparativo Score para Regresion logistica - Arbol de decision - Random Forest*\n"
   ]
  },
  {
   "cell_type": "code",
   "execution_count": null,
   "metadata": {},
   "outputs": [
    {
     "name": "stdout",
     "output_type": "stream",
     "text": [
      "\n",
      "Modelo: Logistic_Regression\n",
      "Accuracy (Entrenamiento): 0.9747\n",
      "Accuracy (Prueba): 0.9727\n",
      "F1 Score (Entrenamiento - weighted): 0.9747\n",
      "F1 Score (Prueba - weighted): 0.9725\n",
      "\n",
      "Modelo: Decision_Tree\n",
      "Accuracy (Entrenamiento): 0.9903\n",
      "Accuracy (Prueba): 0.9803\n",
      "F1 Score (Entrenamiento - weighted): 0.9901\n",
      "F1 Score (Prueba - weighted): 0.9802\n",
      "\n",
      "Modelo: RandomForest\n",
      "Accuracy (Entrenamiento): 1.0000\n",
      "Accuracy (Prueba): 0.9939\n",
      "F1 Score (Entrenamiento - weighted): 1.0000\n",
      "F1 Score (Prueba - weighted): 0.9939\n",
      "\n",
      "Classification Report:\n",
      "             Modelo          Fase        Clase  Precision  Recall  F1-Score  Soporte\n",
      "      Decision_Tree entrenamiento        apple       1.00    1.00      1.00    70.00\n",
      "      Decision_Tree        prueba        apple       1.00    1.00      1.00    30.00\n",
      "Logistic_Regression entrenamiento        apple       1.00    1.00      1.00    70.00\n",
      "Logistic_Regression        prueba        apple       1.00    1.00      1.00    30.00\n",
      "       RandomForest entrenamiento        apple       1.00    1.00      1.00    70.00\n",
      "       RandomForest        prueba        apple       1.00    1.00      1.00    30.00\n",
      "      Decision_Tree entrenamiento       banana       1.00    1.00      1.00    70.00\n",
      "      Decision_Tree        prueba       banana       0.94    1.00      0.97    30.00\n",
      "Logistic_Regression entrenamiento       banana       1.00    1.00      1.00    70.00\n",
      "Logistic_Regression        prueba       banana       1.00    1.00      1.00    30.00\n",
      "       RandomForest entrenamiento       banana       1.00    1.00      1.00    70.00\n",
      "       RandomForest        prueba       banana       1.00    1.00      1.00    30.00\n",
      "      Decision_Tree entrenamiento    blackgram       1.00    1.00      1.00    70.00\n",
      "      Decision_Tree        prueba    blackgram       0.97    0.97      0.97    30.00\n",
      "Logistic_Regression entrenamiento    blackgram       0.93    0.94      0.94    70.00\n",
      "Logistic_Regression        prueba    blackgram       0.94    1.00      0.97    30.00\n",
      "       RandomForest entrenamiento    blackgram       1.00    1.00      1.00    70.00\n",
      "       RandomForest        prueba    blackgram       1.00    0.97      0.98    30.00\n",
      "      Decision_Tree entrenamiento     chickpea       1.00    1.00      1.00    70.00\n",
      "      Decision_Tree        prueba     chickpea       1.00    1.00      1.00    30.00\n",
      "Logistic_Regression entrenamiento     chickpea       1.00    1.00      1.00    70.00\n",
      "Logistic_Regression        prueba     chickpea       1.00    1.00      1.00    30.00\n",
      "       RandomForest entrenamiento     chickpea       1.00    1.00      1.00    70.00\n",
      "       RandomForest        prueba     chickpea       1.00    1.00      1.00    30.00\n",
      "      Decision_Tree entrenamiento      coconut       1.00    1.00      1.00    70.00\n",
      "      Decision_Tree        prueba      coconut       1.00    1.00      1.00    30.00\n",
      "Logistic_Regression entrenamiento      coconut       0.99    1.00      0.99    70.00\n",
      "Logistic_Regression        prueba      coconut       0.97    1.00      0.98    30.00\n",
      "       RandomForest entrenamiento      coconut       1.00    1.00      1.00    70.00\n",
      "       RandomForest        prueba      coconut       1.00    1.00      1.00    30.00\n",
      "      Decision_Tree entrenamiento       coffee       1.00    1.00      1.00    70.00\n",
      "      Decision_Tree        prueba       coffee       1.00    1.00      1.00    30.00\n",
      "Logistic_Regression entrenamiento       coffee       0.99    1.00      0.99    70.00\n",
      "Logistic_Regression        prueba       coffee       1.00    1.00      1.00    30.00\n",
      "       RandomForest entrenamiento       coffee       1.00    1.00      1.00    70.00\n",
      "       RandomForest        prueba       coffee       1.00    1.00      1.00    30.00\n",
      "      Decision_Tree entrenamiento       cotton       1.00    1.00      1.00    70.00\n",
      "      Decision_Tree        prueba       cotton       1.00    0.97      0.98    30.00\n",
      "Logistic_Regression entrenamiento       cotton       1.00    1.00      1.00    70.00\n",
      "Logistic_Regression        prueba       cotton       0.97    0.97      0.97    30.00\n",
      "       RandomForest entrenamiento       cotton       1.00    1.00      1.00    70.00\n",
      "       RandomForest        prueba       cotton       1.00    1.00      1.00    30.00\n",
      "      Decision_Tree entrenamiento       grapes       1.00    1.00      1.00    70.00\n",
      "      Decision_Tree        prueba       grapes       1.00    1.00      1.00    30.00\n",
      "Logistic_Regression entrenamiento       grapes       1.00    1.00      1.00    70.00\n",
      "Logistic_Regression        prueba       grapes       1.00    1.00      1.00    30.00\n",
      "       RandomForest entrenamiento       grapes       1.00    1.00      1.00    70.00\n",
      "       RandomForest        prueba       grapes       1.00    1.00      1.00    30.00\n",
      "      Decision_Tree entrenamiento         jute       0.82    1.00      0.90    70.00\n",
      "      Decision_Tree        prueba         jute       0.86    1.00      0.92    30.00\n",
      "Logistic_Regression entrenamiento         jute       0.86    0.91      0.89    70.00\n",
      "Logistic_Regression        prueba         jute       0.85    0.97      0.91    30.00\n",
      "       RandomForest entrenamiento         jute       1.00    1.00      1.00    70.00\n",
      "       RandomForest        prueba         jute       0.94    1.00      0.97    30.00\n",
      "      Decision_Tree entrenamiento  kidneybeans       1.00    1.00      1.00    70.00\n",
      "      Decision_Tree        prueba  kidneybeans       1.00    1.00      1.00    30.00\n",
      "Logistic_Regression entrenamiento  kidneybeans       0.96    0.99      0.97    70.00\n",
      "Logistic_Regression        prueba  kidneybeans       1.00    1.00      1.00    30.00\n",
      "       RandomForest entrenamiento  kidneybeans       1.00    1.00      1.00    70.00\n",
      "       RandomForest        prueba  kidneybeans       1.00    1.00      1.00    30.00\n",
      "      Decision_Tree entrenamiento       lentil       1.00    1.00      1.00    70.00\n",
      "      Decision_Tree        prueba       lentil       0.94    0.97      0.95    30.00\n",
      "Logistic_Regression entrenamiento       lentil       0.94    0.96      0.95    70.00\n",
      "Logistic_Regression        prueba       lentil       0.96    0.83      0.89    30.00\n",
      "       RandomForest entrenamiento       lentil       1.00    1.00      1.00    70.00\n",
      "       RandomForest        prueba       lentil       1.00    0.97      0.98    30.00\n",
      "      Decision_Tree entrenamiento    macro avg       0.99    0.99      0.99  1540.00\n",
      "      Decision_Tree        prueba    macro avg       0.98    0.98      0.98   660.00\n",
      "Logistic_Regression entrenamiento    macro avg       0.97    0.97      0.97  1540.00\n",
      "Logistic_Regression        prueba    macro avg       0.97    0.97      0.97   660.00\n",
      "       RandomForest entrenamiento    macro avg       1.00    1.00      1.00  1540.00\n",
      "       RandomForest        prueba    macro avg       0.99    0.99      0.99   660.00\n",
      "      Decision_Tree entrenamiento        maize       1.00    1.00      1.00    70.00\n",
      "      Decision_Tree        prueba        maize       0.94    1.00      0.97    30.00\n",
      "Logistic_Regression entrenamiento        maize       1.00    1.00      1.00    70.00\n",
      "Logistic_Regression        prueba        maize       0.97    0.97      0.97    30.00\n",
      "       RandomForest entrenamiento        maize       1.00    1.00      1.00    70.00\n",
      "       RandomForest        prueba        maize       0.97    1.00      0.98    30.00\n",
      "      Decision_Tree entrenamiento        mango       1.00    1.00      1.00    70.00\n",
      "      Decision_Tree        prueba        mango       1.00    1.00      1.00    30.00\n",
      "Logistic_Regression entrenamiento        mango       0.99    1.00      0.99    70.00\n",
      "Logistic_Regression        prueba        mango       0.97    1.00      0.98    30.00\n",
      "       RandomForest entrenamiento        mango       1.00    1.00      1.00    70.00\n",
      "       RandomForest        prueba        mango       1.00    1.00      1.00    30.00\n",
      "      Decision_Tree entrenamiento    mothbeans       1.00    1.00      1.00    70.00\n",
      "      Decision_Tree        prueba    mothbeans       0.96    0.90      0.93    30.00\n",
      "Logistic_Regression entrenamiento    mothbeans       0.98    0.93      0.96    70.00\n",
      "Logistic_Regression        prueba    mothbeans       0.87    0.90      0.89    30.00\n",
      "       RandomForest entrenamiento    mothbeans       1.00    1.00      1.00    70.00\n",
      "       RandomForest        prueba    mothbeans       0.97    1.00      0.98    30.00\n",
      "      Decision_Tree entrenamiento     mungbean       1.00    1.00      1.00    70.00\n",
      "      Decision_Tree        prueba     mungbean       1.00    1.00      1.00    30.00\n",
      "Logistic_Regression entrenamiento     mungbean       0.99    1.00      0.99    70.00\n",
      "Logistic_Regression        prueba     mungbean       1.00    1.00      1.00    30.00\n",
      "       RandomForest entrenamiento     mungbean       1.00    1.00      1.00    70.00\n",
      "       RandomForest        prueba     mungbean       1.00    1.00      1.00    30.00\n",
      "      Decision_Tree entrenamiento    muskmelon       1.00    1.00      1.00    70.00\n",
      "      Decision_Tree        prueba    muskmelon       1.00    1.00      1.00    30.00\n",
      "Logistic_Regression entrenamiento    muskmelon       1.00    1.00      1.00    70.00\n",
      "Logistic_Regression        prueba    muskmelon       1.00    1.00      1.00    30.00\n",
      "       RandomForest entrenamiento    muskmelon       1.00    1.00      1.00    70.00\n",
      "       RandomForest        prueba    muskmelon       1.00    1.00      1.00    30.00\n",
      "      Decision_Tree entrenamiento       orange       1.00    1.00      1.00    70.00\n",
      "      Decision_Tree        prueba       orange       1.00    1.00      1.00    30.00\n",
      "Logistic_Regression entrenamiento       orange       1.00    0.99      0.99    70.00\n",
      "Logistic_Regression        prueba       orange       1.00    0.97      0.98    30.00\n",
      "       RandomForest entrenamiento       orange       1.00    1.00      1.00    70.00\n",
      "       RandomForest        prueba       orange       1.00    1.00      1.00    30.00\n",
      "      Decision_Tree entrenamiento       papaya       1.00    1.00      1.00    70.00\n",
      "      Decision_Tree        prueba       papaya       1.00    0.93      0.97    30.00\n",
      "Logistic_Regression entrenamiento       papaya       0.98    0.93      0.96    70.00\n",
      "Logistic_Regression        prueba       papaya       1.00    0.97      0.98    30.00\n",
      "       RandomForest entrenamiento       papaya       1.00    1.00      1.00    70.00\n",
      "       RandomForest        prueba       papaya       1.00    1.00      1.00    30.00\n",
      "      Decision_Tree entrenamiento   pigeonpeas       1.00    1.00      1.00    70.00\n",
      "      Decision_Tree        prueba   pigeonpeas       1.00    1.00      1.00    30.00\n",
      "Logistic_Regression entrenamiento   pigeonpeas       0.94    0.93      0.94    70.00\n",
      "Logistic_Regression        prueba   pigeonpeas       1.00    1.00      1.00    30.00\n",
      "       RandomForest entrenamiento   pigeonpeas       1.00    1.00      1.00    70.00\n",
      "       RandomForest        prueba   pigeonpeas       1.00    1.00      1.00    30.00\n",
      "      Decision_Tree entrenamiento  pomegranate       1.00    1.00      1.00    70.00\n",
      "      Decision_Tree        prueba  pomegranate       1.00    1.00      1.00    30.00\n",
      "Logistic_Regression entrenamiento  pomegranate       1.00    1.00      1.00    70.00\n",
      "Logistic_Regression        prueba  pomegranate       1.00    1.00      1.00    30.00\n",
      "       RandomForest entrenamiento  pomegranate       1.00    1.00      1.00    70.00\n",
      "       RandomForest        prueba  pomegranate       1.00    1.00      1.00    30.00\n",
      "      Decision_Tree entrenamiento         rice       1.00    0.79      0.88    70.00\n",
      "      Decision_Tree        prueba         rice       1.00    0.83      0.91    30.00\n",
      "Logistic_Regression entrenamiento         rice       0.90    0.87      0.88    70.00\n",
      "Logistic_Regression        prueba         rice       0.93    0.83      0.88    30.00\n",
      "       RandomForest entrenamiento         rice       1.00    1.00      1.00    70.00\n",
      "       RandomForest        prueba         rice       1.00    0.93      0.97    30.00\n",
      "      Decision_Tree entrenamiento   watermelon       1.00    1.00      1.00    70.00\n",
      "      Decision_Tree        prueba   watermelon       1.00    1.00      1.00    30.00\n",
      "Logistic_Regression entrenamiento   watermelon       1.00    1.00      1.00    70.00\n",
      "Logistic_Regression        prueba   watermelon       1.00    1.00      1.00    30.00\n",
      "       RandomForest entrenamiento   watermelon       1.00    1.00      1.00    70.00\n",
      "       RandomForest        prueba   watermelon       1.00    1.00      1.00    30.00\n",
      "      Decision_Tree entrenamiento weighted avg       0.99    0.99      0.99  1540.00\n",
      "      Decision_Tree        prueba weighted avg       0.98    0.98      0.98   660.00\n",
      "Logistic_Regression entrenamiento weighted avg       0.97    0.97      0.97  1540.00\n",
      "Logistic_Regression        prueba weighted avg       0.97    0.97      0.97   660.00\n",
      "       RandomForest entrenamiento weighted avg       1.00    1.00      1.00  1540.00\n",
      "       RandomForest        prueba weighted avg       0.99    0.99      0.99   660.00\n"
     ]
    }
   ],
   "source": [
    "## modelado\n",
    "\n",
    "# ============================================\n",
    "# Librerías para análisis y modelado\n",
    "# ============================================\n",
    "\n",
    "# --- Manipulación y análisis de datos ---\n",
    "import numpy as np\n",
    "import pandas as pd\n",
    "# --- Visualización ---\n",
    "import matplotlib.pyplot as plt\n",
    "import seaborn as sns\n",
    "# --- Preprocesamiento y división de datos ---\n",
    "from sklearn.model_selection import train_test_split \n",
    "from sklearn.preprocessing import StandardScaler, LabelEncoder\n",
    "# --- Metricas de evaluación ---\n",
    "from sklearn.metrics import accuracy_score, classification_report, confusion_matrix, roc_auc_score, f1_score\n",
    "# --- Modelos de clasificación --- \n",
    "from sklearn.linear_model import LogisticRegression\n",
    "from sklearn.tree import DecisionTreeClassifier\n",
    "from sklearn.ensemble import RandomForestClassifier\n",
    "from sklearn.svm import SVC\n",
    "\n",
    "\n",
    "# Separar características y variable objetivo\n",
    "X = crop_data.drop(columns=[\"label\"])\n",
    "y = crop_data[\"label\"]\n",
    "\n",
    "# División en 70% entrenamiento y 30% prueba\n",
    "X_train, X_test, y_train, y_test = train_test_split(\n",
    "    X, y, test_size=0.3, random_state=42, stratify=y\n",
    ")\n",
    "\n",
    "# Normalización de características para modelos sensibles a escala\n",
    "scaler = StandardScaler().fit(X_train)\n",
    "X_train_scaled = scaler.transform(X_train)\n",
    "X_test_scaled = scaler.transform(X_test)\n",
    "\n",
    "\n",
    "# comparacion de modelos\n",
    "models = {\n",
    "    \"Logistic_Regression\": LogisticRegression(random_state=42),\n",
    "    \"Decision_Tree\": DecisionTreeClassifier(random_state=42, max_depth=10),\n",
    "    \"RandomForest\": RandomForestClassifier(random_state=42, n_estimators=100)\n",
    "    }\n",
    "\n",
    "fit_data = {\n",
    "    \"Logistic_Regression\": (X_train_scaled, X_test_scaled),\n",
    "    \"Decision_Tree\": (X_train, X_test),\n",
    "    \"RandomForest\": (X_train, X_test)\n",
    "}\n",
    "\n",
    "score_results = {}\n",
    "for model_name, model in models.items():\n",
    "    Xtrain, Xtest = fit_data[model_name]\n",
    "    model.fit(Xtrain, y_train) # entrenamiento\n",
    "    y_train_pred = model.predict(Xtrain) # predicción en entrenamiento\n",
    "    y_test_pred = model.predict(Xtest) # predicción en prueba\n",
    "    \n",
    "    score_results[model_name] = {\n",
    "        \"accuracy_entrenamiento\": accuracy_score(y_train, y_train_pred),\n",
    "        \"acuracy_prueba\": accuracy_score(y_test, y_test_pred),\n",
    "        \"classification_report_entrenamiento\": classification_report(y_train, y_train_pred, output_dict=True),\n",
    "        \"classification_report_prueba\": classification_report(y_test, y_test_pred, output_dict=True),\n",
    "        \"f1_score_entrenamiento\": f1_score(y_train, y_train_pred, average='weighted'),\n",
    "        \"f1_score_prueba\": f1_score(y_test, y_test_pred, average='weighted')\n",
    "        }\n",
    "# Mostrar resultados de accuracy y F1 Score\n",
    "for model_name, scores in score_results.items():\n",
    "    print(f\"\\nModelo: {model_name}\")\n",
    "    print(f\"Accuracy (Entrenamiento): {scores['accuracy_entrenamiento']:.4f}\")\n",
    "    print(f\"Accuracy (Prueba): {scores['acuracy_prueba']:.4f}\")\n",
    "    print(f\"F1 Score (Entrenamiento - weighted): {scores['f1_score_entrenamiento']:.4f}\")\n",
    "    print(f\"F1 Score (Prueba - weighted): {scores['f1_score_prueba']:.4f}\")\n",
    "\n",
    "#mostrar reportes de clasificación completos\n",
    "\n",
    "# Crear tabla combinada\n",
    "report_rows = []\n",
    "for model_name, scores in score_results.items():\n",
    "    for fase in ['entrenamiento', 'prueba']:\n",
    "        report = scores[f'classification_report_{fase}']\n",
    "        for clase, metricas in report.items():\n",
    "            if isinstance(metricas, dict):  # evitar 'accuracy' que es un float\n",
    "                report_rows.append({\n",
    "                    'Modelo': model_name,\n",
    "                    'Fase': fase,\n",
    "                    'Clase': clase,\n",
    "                    'Precision': metricas['precision'],\n",
    "                    'Recall': metricas['recall'],\n",
    "                    'F1-Score': metricas['f1-score'],\n",
    "                    'Soporte': metricas['support']\n",
    "                })\n",
    "\n",
    "# Convertir a DataFrame y ordenar\n",
    "df_report = pd.DataFrame(report_rows)\n",
    "df_report_ordenado = df_report.sort_values(by=['Clase','Modelo', 'Fase'], ascending=[True, True, True])\n",
    "\n",
    "# Mostrar tabla\n",
    "pd.set_option('display.max_columns', None)  # Muestra todas las columnas\n",
    "#pd.set_option('display.width', None)        # Ajusta el ancho para no partir la tabla\n",
    "print(\"\\nClassification Report:\")\n",
    "print(df_report_ordenado.to_string(index=False))\n",
    "\n"
   ]
  },
  {
   "cell_type": "code",
   "execution_count": null,
   "metadata": {},
   "outputs": [
    {
     "data": {
      "image/png": "[encoded data removed]",
      "text/plain": [
       "<Figure size 800x500 with 1 Axes>"
      ]
     },
     "metadata": {},
     "output_type": "display_data"
    },
    {
     "name": "stdout",
     "output_type": "stream",
     "text": [
      "\n",
      "El mejor modelo es: RandomForest con F1 Score de 0.9939\n"
     ]
    }
   ],
   "source": [
    "# Comparar modelos según F1 Score en prueba\n",
    "f1_scores_prueba = {model_name: scores['f1_score_prueba'] for model_name, scores in score_results.items()}\n",
    "plt.figure(figsize=(8, 5))\n",
    "sns.barplot(x=list(f1_scores_prueba.keys()), y=list(f1_scores_prueba.values()), palette=\"viridis\")\n",
    "plt.title(\"Comparación de Modelos según F1 Score en Prueba\", fontsize=16, fontweight='bold', pad=20)\n",
    "plt.ylabel(\"F1 Score (weighted)\")\n",
    "plt.xlabel(\"Modelo\")\n",
    "plt.ylim(0, 1)\n",
    "for i, v in enumerate(f1_scores_prueba.values()):\n",
    "    plt.text(i, v + 0.02, f\"{v:.2f}\", ha='center', fontsize=12)\n",
    "plt.show()\n",
    "\n",
    "mejor_modelo = max(f1_scores_prueba, key=f1_scores_prueba.get)\n",
    "print(f\"\\nEl mejor modelo es: {mejor_modelo} con F1 Score de {f1_scores_prueba[mejor_modelo]:.4f}\")"
   ]
  },
  {
   "cell_type": "code",
   "execution_count": null,
   "metadata": {},
   "outputs": [
    {
     "name": "stdout",
     "output_type": "stream",
     "text": [
      "ROC-AUC Score (OvR): 0.9933261183261183\n"
     ]
    }
   ],
   "source": [
    "#calcular algunas estadisticas adicionales\n",
    "\n",
    "Xt = fit_data[mejor_modelo][1]  # Datos de prueba del mejor modelo\n",
    "mmodel = models[mejor_modelo] # Mejor modelo entrenado\n",
    "ypredit = mmodel.predict(Xt) # Predicciones del mejor modelo\n",
    "names = sorted(crop_data[\"label\"].unique())  # Lista ordenada de clases \"y.unique()\"\n",
    "\n",
    "# Codificación de etiquetas para One-Hot Encoding\n",
    "encoder = LabelEncoder()\n",
    "encoder.fit(crop_data[\"label\"])  # Ajusta con todas las clases\n",
    "y_test_encoded = encoder.transform(y_test)\n",
    "\n",
    "\n",
    "try :\n",
    "    y_proba = mmodel.predict_proba(Xt)\n",
    "    y_true_ovr = np.eye(len(names))[y_test_encoded]#len(names) = número de clases (en este caso, n) / np.eye(len(names)) = matriz identidad de tamaño n×n. [y_test] = selecciona las filas correspondientes a las clases reales, convirtiendo y_test en formato One-Hot Encoding.\n",
    "    print(\"ROC-AUC Score (OvR):\", roc_auc_score(y_true_ovr, y_proba, average='macro', multi_class='ovr'))\n",
    "\n",
    "except Exception as ex:\n",
    "    print(f\"El modelo {model} no soporta predict_proba(): {ex}\")\n",
    "    "
   ]
  }
 ],
 "metadata": {
  "kernelspec": {
   "display_name": "venv",
   "language": "python",
   "name": "python3"
  },
  "language_info": {
   "codemirror_mode": {
    "name": "ipython",
    "version": 3
   },
   "file_extension": ".py",
   "mimetype": "text/x-python",
   "name": "python",
   "nbconvert_exporter": "python",
   "pygments_lexer": "ipython3",
   "version": "3.12.3"
  },
  "nav_menu": {
   "height": "279px",
   "width": "309px"
  },
  "toc": {
   "nav_menu": {},
   "number_sections": true,
   "sideBar": true,
   "skip_h1_title": false,
   "toc_cell": false,
   "toc_position": {},
   "toc_section_display": "block",
   "toc_window_display": false
  }
 },
 "nbformat": 4,
 "nbformat_minor": 4
}
