{
 "cells": [
  {
   "cell_type": "markdown",
   "metadata": {},
   "source": [
    "# Sistema de Recomendación de Cultivos\n",
    "## Parte 2: Modelado y Evaluación (Fases 3-6 CRISP-DM)\n",
    "\n",
    "**Machine Learning**\n",
    "\n",
    "**Profesor:** Marco Terán  \n",
    "**Fecha:** 2025/10/22\n",
    "\n",
    "**Integrantes**\n",
    "\n",
    "- Daniel Alejandro Garcia Zuluaica\n",
    "- Edward Alejandro Rayo Cortés\n",
    "- Elizabeth Toro Chalarca\n",
    "\n",
    "___"
   ]
  },
  {
   "cell_type": "markdown",
   "metadata": {},
   "source": [
    "## 📋 Tabla de Contenidos\n",
    "\n",
    "1. **Resumen del EDA** (Referencia del Notebook 1)\n",
    "2. **Fase 3: Preparación de Datos**\n",
    "3. **Fase 4: Modelado**\n",
    "4. **Fase 5: Evaluación**\n",
    "5. **Fase 6: Despliegue**\n",
    "6. **Conclusiones y Próximos Pasos**\n",
    "\n",
    "---"
   ]
  },
  {
   "cell_type": "markdown",
   "metadata": {},
   "source": [
    "## 📚 Resumen del EDA (Notebook 1)\n",
    "\n",
    "Este notebook continúa el trabajo realizado en [1_crops_eda.ipynb](1_crops_eda.ipynb). A continuación, un resumen ejecutivo de los hallazgos clave:\n",
    "\n",
    "### Calidad de Datos: ⭐⭐⭐⭐⭐ EXCELENTE\n",
    "\n",
    "- **Completitud**: 100% (sin valores faltantes)\n",
    "- **Balance**: Perfecto (100 muestras × 22 cultivos = 2,200 muestras)\n",
    "- **Variables**: 7 numéricas (N, P, K, temperature, humidity, ph, rainfall)\n",
    "- **Target**: 22 clases de cultivos\n",
    "\n",
    "### Hallazgos Clave del EDA:\n",
    "\n",
    "1. ✅ **Outliers válidos**: Representan requerimientos agronómicos específicos (conservar)\n",
    "2. ✅ **Variables significativas**: Todas con F-statistic alto (p < 0.05)\n",
    "3. ✅ **Separabilidad confirmada**: Silhouette Score t-SNE = 0.528 (buena separación)\n",
    "4. ⚠️ **Distribuciones no normales**: Requiere transformación para modelos paramétricos\n",
    "5. ⚠️ **Multicolinealidad P-K**: Correlación 0.736 (manejable con regularización)\n",
    "\n",
    "### Decisiones para Modelado:\n",
    "\n",
    "| Decisión | Justificación |\n",
    "|----------|---------------|\n",
    "| **Conservar outliers** | Agronómicamente válidos |\n",
    "| **Usar 7 variables** | Todas discriminan significativamente |\n",
    "| **RobustScaler** | Resistente a outliers |\n",
    "| **PowerTransformer** | Para modelos paramétricos |\n",
    "| **Modelos no-lineales** | PCA mostró que no hay separación lineal |\n",
    "\n",
    "### Expectativas de Performance:\n",
    "\n",
    "- **Objetivo mínimo**: 85% accuracy\n",
    "- **Objetivo realista**: 90-93% accuracy\n",
    "- **Objetivo óptimo**: ≥95% accuracy\n",
    "\n",
    "### Modelos Prioritarios:\n",
    "\n",
    "1. 🥇 **Random Forest**: Robusto, maneja outliers, captura interacciones\n",
    "2. 🥇 **XGBoost**: State-of-art para multiclase\n",
    "3. 🥈 **Logistic Regression**: Baseline interpretable\n",
    "4. 🥈 **SVM (RBF)**: Bueno para no-linealidad"
   ]
  },
  {
   "cell_type": "markdown",
   "metadata": {},
   "source": [
    "---\n",
    "\n",
    "## 1. Configuración del Entorno"
   ]
  },
  {
   "cell_type": "code",
   "execution_count": null,
   "metadata": {
    "vscode": {
     "languageId": "shellscript"
    }
   },
   "outputs": [],
   "source": [
    "pip install -r ../requirements.txt"
   ]
  },
  {
   "cell_type": "code",
   "execution_count": 7,
   "metadata": {},
   "outputs": [
    {
     "name": "stdout",
     "output_type": "stream",
     "text": [
      "✅ Python 3.12 instalado correctamente\n"
     ]
    }
   ],
   "source": [
    "# Configuración inicial\n",
    "import sys\n",
    "import warnings\n",
    "warnings.filterwarnings('ignore')\n",
    "\n",
    "# Verificar versión de Python\n",
    "assert sys.version_info >= (3, 7), \"Este notebook requiere Python 3.7 o superior\"\n",
    "print(f\"✅ Python {sys.version_info.major}.{sys.version_info.minor} instalado correctamente\")"
   ]
  },
  {
   "cell_type": "code",
   "execution_count": 8,
   "metadata": {},
   "outputs": [
    {
     "name": "stdout",
     "output_type": "stream",
     "text": [
      "✅ XGBoost disponible\n",
      "\n",
      "✅ Librerías importadas correctamente\n"
     ]
    }
   ],
   "source": [
    "# Importar librerías para modelado\n",
    "import numpy as np\n",
    "import pandas as pd\n",
    "import matplotlib.pyplot as plt\n",
    "import seaborn as sns\n",
    "from pathlib import Path\n",
    "\n",
    "# Scikit-learn para modelado\n",
    "from sklearn.model_selection import train_test_split, cross_val_score, GridSearchCV\n",
    "from sklearn.preprocessing import StandardScaler, RobustScaler, PowerTransformer, LabelEncoder\n",
    "from sklearn.pipeline import Pipeline\n",
    "from sklearn.metrics import (\n",
    "    accuracy_score, precision_score, recall_score, f1_score,\n",
    "    confusion_matrix, classification_report, ConfusionMatrixDisplay\n",
    ")\n",
    "\n",
    "# Modelos de clasificación\n",
    "from sklearn.ensemble import RandomForestClassifier\n",
    "from sklearn.linear_model import LogisticRegression\n",
    "from sklearn.svm import SVC\n",
    "from sklearn.neighbors import KNeighborsClassifier\n",
    "\n",
    "# XGBoost (si está instalado)\n",
    "try:\n",
    "    import xgboost as xgb\n",
    "    print(\"✅ XGBoost disponible\")\n",
    "except ImportError:\n",
    "    print(\"⚠️  XGBoost no instalado (opcional)\")\n",
    "\n",
    "# Configuración de visualización\n",
    "plt.style.use('seaborn-v0_8-darkgrid')\n",
    "plt.rcParams['figure.figsize'] = (12, 6)\n",
    "plt.rcParams['font.size'] = 11\n",
    "sns.set_palette(\"husl\")\n",
    "\n",
    "# Configuración de pandas\n",
    "pd.set_option('display.max_columns', None)\n",
    "pd.set_option('display.precision', 4)\n",
    "\n",
    "# Random state para reproducibilidad\n",
    "RANDOM_STATE = 42\n",
    "\n",
    "print(\"\\n✅ Librerías importadas correctamente\")"
   ]
  },
  {
   "cell_type": "code",
   "execution_count": 9,
   "metadata": {},
   "outputs": [],
   "source": [
    "# Importar funciones utilitarias\n",
    "sys.path.append('../src')\n",
    "\n",
    "# Recargar data_loader para obtener los datos\n",
    "import importlib\n",
    "import data_loader\n",
    "importlib.reload(data_loader)\n",
    "\n",
    "from data_loader import load_crop_data"
   ]
  },
  {
   "cell_type": "markdown",
   "metadata": {},
   "source": [
    "---\n",
    "\n",
    "## 2. Carga de Datos\n",
    "\n",
    "Cargamos el dataset limpio (ya validado en el EDA):"
   ]
  },
  {
   "cell_type": "code",
   "execution_count": 10,
   "metadata": {},
   "outputs": [
    {
     "name": "stdout",
     "output_type": "stream",
     "text": [
      "📁 Cargando datos desde caché local: Crop_recommendation.csv\n",
      "================================================================================\n",
      "                              RESUMEN DEL DATASET                               \n",
      "================================================================================\n",
      "Dimensiones: 2200 filas × 8 columnas\n",
      "Cultivos únicos: 22\n",
      "\n",
      "Primeras filas:\n"
     ]
    },
    {
     "data": {
      "text/html": [
       "<div>\n",
       "<style scoped>\n",
       "    .dataframe tbody tr th:only-of-type {\n",
       "        vertical-align: middle;\n",
       "    }\n",
       "\n",
       "    .dataframe tbody tr th {\n",
       "        vertical-align: top;\n",
       "    }\n",
       "\n",
       "    .dataframe thead th {\n",
       "        text-align: right;\n",
       "    }\n",
       "</style>\n",
       "<table border=\"1\" class=\"dataframe\">\n",
       "  <thead>\n",
       "    <tr style=\"text-align: right;\">\n",
       "      <th></th>\n",
       "      <th>N</th>\n",
       "      <th>P</th>\n",
       "      <th>K</th>\n",
       "      <th>temperature</th>\n",
       "      <th>humidity</th>\n",
       "      <th>ph</th>\n",
       "      <th>rainfall</th>\n",
       "      <th>label</th>\n",
       "    </tr>\n",
       "  </thead>\n",
       "  <tbody>\n",
       "    <tr>\n",
       "      <th>0</th>\n",
       "      <td>90</td>\n",
       "      <td>42</td>\n",
       "      <td>43</td>\n",
       "      <td>20.8797</td>\n",
       "      <td>82.0027</td>\n",
       "      <td>6.5030</td>\n",
       "      <td>202.9355</td>\n",
       "      <td>rice</td>\n",
       "    </tr>\n",
       "    <tr>\n",
       "      <th>1</th>\n",
       "      <td>85</td>\n",
       "      <td>58</td>\n",
       "      <td>41</td>\n",
       "      <td>21.7705</td>\n",
       "      <td>80.3196</td>\n",
       "      <td>7.0381</td>\n",
       "      <td>226.6555</td>\n",
       "      <td>rice</td>\n",
       "    </tr>\n",
       "    <tr>\n",
       "      <th>2</th>\n",
       "      <td>60</td>\n",
       "      <td>55</td>\n",
       "      <td>44</td>\n",
       "      <td>23.0045</td>\n",
       "      <td>82.3208</td>\n",
       "      <td>7.8402</td>\n",
       "      <td>263.9642</td>\n",
       "      <td>rice</td>\n",
       "    </tr>\n",
       "    <tr>\n",
       "      <th>3</th>\n",
       "      <td>74</td>\n",
       "      <td>35</td>\n",
       "      <td>40</td>\n",
       "      <td>26.4911</td>\n",
       "      <td>80.1584</td>\n",
       "      <td>6.9804</td>\n",
       "      <td>242.8640</td>\n",
       "      <td>rice</td>\n",
       "    </tr>\n",
       "    <tr>\n",
       "      <th>4</th>\n",
       "      <td>78</td>\n",
       "      <td>42</td>\n",
       "      <td>42</td>\n",
       "      <td>20.1302</td>\n",
       "      <td>81.6049</td>\n",
       "      <td>7.6285</td>\n",
       "      <td>262.7173</td>\n",
       "      <td>rice</td>\n",
       "    </tr>\n",
       "  </tbody>\n",
       "</table>\n",
       "</div>"
      ],
      "text/plain": [
       "    N   P   K  temperature  humidity      ph  rainfall label\n",
       "0  90  42  43      20.8797   82.0027  6.5030  202.9355  rice\n",
       "1  85  58  41      21.7705   80.3196  7.0381  226.6555  rice\n",
       "2  60  55  44      23.0045   82.3208  7.8402  263.9642  rice\n",
       "3  74  35  40      26.4911   80.1584  6.9804  242.8640  rice\n",
       "4  78  42  42      20.1302   81.6049  7.6285  262.7173  rice"
      ]
     },
     "metadata": {},
     "output_type": "display_data"
    },
    {
     "name": "stdout",
     "output_type": "stream",
     "text": [
      "\n",
      "Distribución de clases:\n",
      "label\n",
      "rice           100\n",
      "maize          100\n",
      "chickpea       100\n",
      "kidneybeans    100\n",
      "pigeonpeas     100\n",
      "mothbeans      100\n",
      "mungbean       100\n",
      "blackgram      100\n",
      "lentil         100\n",
      "pomegranate    100\n",
      "Name: count, dtype: int64\n"
     ]
    }
   ],
   "source": [
    "# Cargar datos\n",
    "crop_data = load_crop_data()\n",
    "\n",
    "print(\"=\"*80)\n",
    "print(\"RESUMEN DEL DATASET\".center(80))\n",
    "print(\"=\"*80)\n",
    "print(f\"Dimensiones: {crop_data.shape[0]} filas × {crop_data.shape[1]} columnas\")\n",
    "print(f\"Cultivos únicos: {crop_data['label'].nunique()}\")\n",
    "print(f\"\\nPrimeras filas:\")\n",
    "display(crop_data.head())\n",
    "\n",
    "print(f\"\\nDistribución de clases:\")\n",
    "print(crop_data['label'].value_counts().head(10))"
   ]
  },
  {
   "cell_type": "markdown",
   "metadata": {},
   "source": [
    "---\n",
    "\n",
    "## 🔧 Fase 3: Preparación de Datos\n",
    "\n",
    "Basándonos en las conclusiones del EDA, implementaremos:\n",
    "\n",
    "1. **Separación de features y target**\n",
    "2. **Encoding del target** (22 cultivos → 0-21)\n",
    "3. **Split estratificado** (80% train, 20% test)\n",
    "4. **Pipelines de preprocesamiento** (según tipo de modelo)\n",
    "5. **Validación de la preparación**"
   ]
  },
  {
   "cell_type": "markdown",
   "metadata": {},
   "source": [
    "### 3.1. Separación de Features y Target"
   ]
  },
  {
   "cell_type": "code",
   "execution_count": null,
   "metadata": {},
   "outputs": [],
   "source": [
    "# Placeholder: Código de preparación de datos\n",
    "print(\"⏳ Sección en desarrollo...\")"
   ]
  },
  {
   "cell_type": "markdown",
   "metadata": {},
   "source": [
    "---\n",
    "\n",
    "## 🤖 Fase 4: Modelado\n",
    "\n",
    "*Esta sección se desarrollará después de completar la Fase 3*"
   ]
  },
  {
   "cell_type": "markdown",
   "metadata": {},
   "source": [
    "---\n",
    "\n",
    "## 📊 Fase 5: Evaluación\n",
    "\n",
    "*Esta sección se desarrollará después de completar la Fase 4*"
   ]
  },
  {
   "cell_type": "markdown",
   "metadata": {},
   "source": [
    "---\n",
    "\n",
    "## 🚀 Fase 6: Despliegue\n",
    "\n",
    "*Esta sección se desarrollará después de completar la Fase 5*"
   ]
  },
  {
   "cell_type": "markdown",
   "metadata": {},
   "source": [
    "---\n",
    "\n",
    "## 📚 Referencias\n",
    "\n",
    "Ver referencias completas en `1_crops_eda.ipynb`"
   ]
  }
 ],
 "metadata": {
  "kernelspec": {
   "display_name": "python3.12",
   "language": "python",
   "name": "python3"
  },
  "language_info": {
   "codemirror_mode": {
    "name": "ipython",
    "version": 3
   },
   "file_extension": ".py",
   "mimetype": "text/x-python",
   "name": "python",
   "nbconvert_exporter": "python",
   "pygments_lexer": "ipython3",
   "version": "3.12.11"
  }
 },
 "nbformat": 4,
 "nbformat_minor": 4
}
